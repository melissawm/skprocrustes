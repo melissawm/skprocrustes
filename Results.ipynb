{
 "cells": [
  {
   "cell_type": "code",
   "execution_count": 1,
   "metadata": {},
   "outputs": [],
   "source": [
    "%matplotlib inline"
   ]
  },
  {
   "cell_type": "markdown",
   "metadata": {},
   "source": [
    "# Comparisons between different versions of skprocrustes solvers"
   ]
  },
  {
   "cell_type": "code",
   "execution_count": 2,
   "metadata": {},
   "outputs": [],
   "source": [
    "import skprocrustes as skp\n",
    "import time\n",
    "import matplotlib.pyplot as plt\n",
    "import numpy as np\n",
    "import pandas as pd"
   ]
  },
  {
   "cell_type": "markdown",
   "metadata": {},
   "source": [
    "## 1. Comparison between old versions of all solvers"
   ]
  },
  {
   "cell_type": "code",
   "execution_count": 3,
   "metadata": {},
   "outputs": [],
   "source": [
    "gkbsolver = skp.GKBSolver(verbose=0)\n",
    "spgsolver = skp.SPGSolver(verbose=0)\n",
    "gpisolver = skp.GPISolver(verbose=0)\n",
    "ebsolver = skp.EBSolver(verbose=0)"
   ]
  },
  {
   "cell_type": "markdown",
   "metadata": {},
   "source": [
    "## Problem 1"
   ]
  },
  {
   "cell_type": "code",
   "execution_count": 4,
   "metadata": {},
   "outputs": [],
   "source": [
    "problem1 = skp.ProcrustesProblem((5000,5000,10,10), problemnumber=1)"
   ]
  },
  {
   "cell_type": "markdown",
   "metadata": {},
   "source": [
    "### Problem 1: GKB"
   ]
  },
  {
   "cell_type": "code",
   "execution_count": 5,
   "metadata": {},
   "outputs": [
    {
     "name": "stdout",
     "output_type": "stream",
     "text": [
      "1.4713881015777588\n"
     ]
    }
   ],
   "source": [
    "t0 = time.time(); results1_gkb = gkbsolver.solve(problem1); t1_gkb = time.time()-t0; print(t1_gkb)"
   ]
  },
  {
   "cell_type": "code",
   "execution_count": 6,
   "metadata": {},
   "outputs": [
    {
     "name": "stdout",
     "output_type": "stream",
     "text": [
      "=========\n",
      " Summary:\n",
      "=========\n",
      "success : True\n",
      "status : 0\n",
      "message : Optimization terminated successfully.\n",
      "fun : 9.369117093649114e-07\n",
      "normgrad : 1.2722151536843884e-05\n",
      "nbiter : 0.094\n",
      "nfev : 0.11200000000000004\n",
      "blocksteps : 3\n"
     ]
    }
   ],
   "source": [
    "results1_gkb.show()"
   ]
  },
  {
   "cell_type": "markdown",
   "metadata": {},
   "source": [
    "### Problem 1: SPG"
   ]
  },
  {
   "cell_type": "code",
   "execution_count": 7,
   "metadata": {},
   "outputs": [
    {
     "name": "stdout",
     "output_type": "stream",
     "text": [
      "2.942115068435669\n"
     ]
    }
   ],
   "source": [
    "t0 = time.time(); results1_spg = spgsolver.solve(problem1); t1_spg = time.time()-t0; print(t1_spg)"
   ]
  },
  {
   "cell_type": "code",
   "execution_count": 8,
   "metadata": {},
   "outputs": [
    {
     "name": "stdout",
     "output_type": "stream",
     "text": [
      "=========\n",
      " Summary:\n",
      "=========\n",
      "success : True\n",
      "status : 0\n",
      "message : Optimization terminated successfully.\n",
      "fun : 1.884359542465025e-11\n",
      "normgrad : 0.0001971674228337678\n",
      "nbiter : 6\n",
      "nfev : 7.0\n"
     ]
    }
   ],
   "source": [
    "results1_spg.show()"
   ]
  },
  {
   "cell_type": "markdown",
   "metadata": {},
   "source": [
    "### Problem 1: GPI"
   ]
  },
  {
   "cell_type": "code",
   "execution_count": 9,
   "metadata": {},
   "outputs": [
    {
     "name": "stdout",
     "output_type": "stream",
     "text": [
      "25.904895067214966\n"
     ]
    }
   ],
   "source": [
    "t0 = time.time(); results1_gpi = gpisolver.solve(problem1); t1_gpi = time.time()-t0; print(t1_gpi)"
   ]
  },
  {
   "cell_type": "code",
   "execution_count": 10,
   "metadata": {},
   "outputs": [
    {
     "name": "stdout",
     "output_type": "stream",
     "text": [
      "=========\n",
      " Summary:\n",
      "=========\n",
      "success : True\n",
      "status : 0\n",
      "message : Optimization terminated successfully.\n",
      "fun : 1.902734885954275e-07\n",
      "nbiter : 5\n",
      "nfev : 6\n"
     ]
    }
   ],
   "source": [
    "results1_gpi.show()"
   ]
  },
  {
   "cell_type": "markdown",
   "metadata": {},
   "source": [
    "### Problem 1: EB"
   ]
  },
  {
   "cell_type": "code",
   "execution_count": 11,
   "metadata": {},
   "outputs": [
    {
     "name": "stdout",
     "output_type": "stream",
     "text": [
      "688.1072330474854\n"
     ]
    }
   ],
   "source": [
    "t0 = time.time(); results1_eb = ebsolver.solve(problem1); t1_eb = time.time()-t0; print(t1_eb)"
   ]
  },
  {
   "cell_type": "code",
   "execution_count": 12,
   "metadata": {},
   "outputs": [
    {
     "name": "stdout",
     "output_type": "stream",
     "text": [
      "=========\n",
      " Summary:\n",
      "=========\n",
      "success : True\n",
      "status : 0\n",
      "message : Optimization terminated successfully.\n",
      "fun : 5.164083590560066e-07\n",
      "nbiter : 8\n",
      "nfev : 9\n"
     ]
    }
   ],
   "source": [
    "results1_eb.show()"
   ]
  },
  {
   "cell_type": "markdown",
   "metadata": {},
   "source": [
    "### Problem 1: All"
   ]
  },
  {
   "cell_type": "code",
   "execution_count": 13,
   "metadata": {},
   "outputs": [
    {
     "data": {
      "text/plain": [
       "Text(0.5,1,'Problem 1')"
      ]
     },
     "execution_count": 13,
     "metadata": {},
     "output_type": "execute_result"
    },
    {
     "data": {
      "image/png": "[encoded data removed]",
      "text/plain": [
       "<Figure size 432x288 with 1 Axes>"
      ]
     },
     "metadata": {},
     "output_type": "display_data"
    }
   ],
   "source": [
    "gkb, spg, gpi, eb = plt.bar([0,1,2,3], [t1_gkb, t1_spg, t1_gpi, t1_eb])\n",
    "gkb.set_facecolor('r')\n",
    "spg.set_facecolor('g')\n",
    "gpi.set_facecolor('b')\n",
    "eb.set_facecolor('m')\n",
    "ax = plt.gca()\n",
    "ax.set_xticks([0,1,2,3])\n",
    "ax.set_xticklabels(['GKB', 'SPG', 'GPI', 'EB'])\n",
    "#ax.set_ylim([0, 100])\n",
    "ax.set_ylabel('CPU Time')\n",
    "ax.set_title('Problem 1')"
   ]
  },
  {
   "cell_type": "code",
   "execution_count": 14,
   "metadata": {},
   "outputs": [
    {
     "data": {
      "text/html": [
       "<div>\n",
       "<style scoped>\n",
       "    .dataframe tbody tr th:only-of-type {\n",
       "        vertical-align: middle;\n",
       "    }\n",
       "\n",
       "    .dataframe tbody tr th {\n",
       "        vertical-align: top;\n",
       "    }\n",
       "\n",
       "    .dataframe thead th {\n",
       "        text-align: right;\n",
       "    }\n",
       "</style>\n",
       "<table border=\"1\" class=\"dataframe\">\n",
       "  <thead>\n",
       "    <tr style=\"text-align: right;\">\n",
       "      <th></th>\n",
       "      <th>problem1</th>\n",
       "    </tr>\n",
       "  </thead>\n",
       "  <tbody>\n",
       "    <tr>\n",
       "      <th>GKB</th>\n",
       "      <td>1.471388</td>\n",
       "    </tr>\n",
       "    <tr>\n",
       "      <th>SPG</th>\n",
       "      <td>2.942115</td>\n",
       "    </tr>\n",
       "    <tr>\n",
       "      <th>GPI</th>\n",
       "      <td>25.904895</td>\n",
       "    </tr>\n",
       "    <tr>\n",
       "      <th>EB</th>\n",
       "      <td>688.107233</td>\n",
       "    </tr>\n",
       "  </tbody>\n",
       "</table>\n",
       "</div>"
      ],
      "text/plain": [
       "       problem1\n",
       "GKB    1.471388\n",
       "SPG    2.942115\n",
       "GPI   25.904895\n",
       "EB   688.107233"
      ]
     },
     "execution_count": 14,
     "metadata": {},
     "output_type": "execute_result"
    }
   ],
   "source": [
    "results = pd.DataFrame({ 'GKB' : [t1_gkb], 'SPG' : [t1_spg], 'GPI' : [t1_gpi], 'EB' : [t1_eb]}, index=['problem1'])\n",
    "results = results.T\n",
    "results"
   ]
  },
  {
   "cell_type": "markdown",
   "metadata": {},
   "source": [
    "## Problem 2"
   ]
  },
  {
   "cell_type": "code",
   "execution_count": 15,
   "metadata": {},
   "outputs": [],
   "source": [
    "problem2 = skp.ProcrustesProblem((500,500,5,5), problemnumber=2)"
   ]
  },
  {
   "cell_type": "markdown",
   "metadata": {},
   "source": [
    "### Problem 2: GKB"
   ]
  },
  {
   "cell_type": "code",
   "execution_count": 16,
   "metadata": {},
   "outputs": [
    {
     "name": "stdout",
     "output_type": "stream",
     "text": [
      "Warning: Maximum number of iterations has been exceeded.(inner loop)\n",
      "Warning: Maximum number of iterations has been exceeded.(inner loop)\n",
      "134.401038646698\n"
     ]
    }
   ],
   "source": [
    "t0 = time.time(); results2_gkb = gkbsolver.solve(problem2); t2_gkb = time.time()-t0; print(t2_gkb)"
   ]
  },
  {
   "cell_type": "code",
   "execution_count": 17,
   "metadata": {},
   "outputs": [
    {
     "name": "stdout",
     "output_type": "stream",
     "text": [
      "=========\n",
      " Summary:\n",
      "=========\n",
      "success : True\n",
      "status : 0\n",
      "message : Optimization terminated successfully.\n",
      "fun : 2.106283571729108e-07\n",
      "normgrad : 0.00040962488584510043\n",
      "nbiter : 31345.65\n",
      "nfev : 53634.83999999842\n",
      "blocksteps : 96\n"
     ]
    }
   ],
   "source": [
    "results2_gkb.show()"
   ]
  },
  {
   "cell_type": "markdown",
   "metadata": {},
   "source": [
    "### Problem 2: SPG"
   ]
  },
  {
   "cell_type": "code",
   "execution_count": 18,
   "metadata": {},
   "outputs": [
    {
     "name": "stdout",
     "output_type": "stream",
     "text": [
      "0.8769497871398926\n"
     ]
    }
   ],
   "source": [
    "t0 = time.time(); results2_spg = spgsolver.solve(problem2); t2_spg = time.time()-t0; print(t2_spg)"
   ]
  },
  {
   "cell_type": "code",
   "execution_count": 19,
   "metadata": {},
   "outputs": [
    {
     "name": "stdout",
     "output_type": "stream",
     "text": [
      "=========\n",
      " Summary:\n",
      "=========\n",
      "success : True\n",
      "status : 0\n",
      "message : Optimization terminated successfully.\n",
      "fun : 1.6685364759521507e-08\n",
      "normgrad : 0.0009943062777651034\n",
      "nbiter : 619\n",
      "nfev : 1033.0\n"
     ]
    }
   ],
   "source": [
    "results2_spg.show()"
   ]
  },
  {
   "cell_type": "markdown",
   "metadata": {},
   "source": [
    "### Problem 2: GPI"
   ]
  },
  {
   "cell_type": "code",
   "execution_count": 20,
   "metadata": {},
   "outputs": [
    {
     "name": "stdout",
     "output_type": "stream",
     "text": [
      "3.3658313751220703\n"
     ]
    }
   ],
   "source": [
    "t0 = time.time(); results2_gpi = gpisolver.solve(problem2); t2_gpi = time.time()-t0; print(t2_gpi)"
   ]
  },
  {
   "cell_type": "code",
   "execution_count": 21,
   "metadata": {},
   "outputs": [
    {
     "name": "stdout",
     "output_type": "stream",
     "text": [
      "=========\n",
      " Summary:\n",
      "=========\n",
      "success : True\n",
      "status : 0\n",
      "message : Optimization terminated successfully.\n",
      "fun : 0.0009037278970821399\n",
      "nbiter : 1525\n",
      "nfev : 1526\n"
     ]
    }
   ],
   "source": [
    "results2_gpi.show()"
   ]
  },
  {
   "cell_type": "markdown",
   "metadata": {},
   "source": [
    "### Problem 2: EB"
   ]
  },
  {
   "cell_type": "code",
   "execution_count": 22,
   "metadata": {},
   "outputs": [
    {
     "name": "stdout",
     "output_type": "stream",
     "text": [
      "213.9796814918518\n"
     ]
    }
   ],
   "source": [
    "t0 = time.time(); results2_eb = ebsolver.solve(problem2); t2_eb = time.time()-t0; print(t2_eb)"
   ]
  },
  {
   "cell_type": "code",
   "execution_count": 23,
   "metadata": {},
   "outputs": [
    {
     "name": "stdout",
     "output_type": "stream",
     "text": [
      "=========\n",
      " Summary:\n",
      "=========\n",
      "success : True\n",
      "status : 0\n",
      "message : Optimization terminated successfully.\n",
      "fun : 9.992238591953361e-07\n",
      "nbiter : 3098\n",
      "nfev : 3099\n"
     ]
    }
   ],
   "source": [
    "results2_eb.show()"
   ]
  },
  {
   "cell_type": "markdown",
   "metadata": {},
   "source": [
    "### Problem 2: All"
   ]
  },
  {
   "cell_type": "code",
   "execution_count": 24,
   "metadata": {},
   "outputs": [
    {
     "data": {
      "text/plain": [
       "Text(0.5,1,'Problem 2')"
      ]
     },
     "execution_count": 24,
     "metadata": {},
     "output_type": "execute_result"
    },
    {
     "data": {
      "image/png": "[encoded data removed]",
      "text/plain": [
       "<Figure size 432x288 with 1 Axes>"
      ]
     },
     "metadata": {},
     "output_type": "display_data"
    }
   ],
   "source": [
    "gkb, spg, gpi, eb = plt.bar([0,1,2,3], [t2_gkb, t2_spg, t2_gpi, t2_eb])\n",
    "gkb.set_facecolor('r')\n",
    "spg.set_facecolor('g')\n",
    "gpi.set_facecolor('b')\n",
    "eb.set_facecolor('m')\n",
    "ax = plt.gca()\n",
    "ax.set_xticks([0,1,2,3])\n",
    "ax.set_xticklabels(['GKB', 'SPG', 'GPI', 'EB'])\n",
    "#ax.set_ylim([0, 100])\n",
    "ax.set_ylabel('CPU Time')\n",
    "ax.set_title('Problem 2')"
   ]
  },
  {
   "cell_type": "code",
   "execution_count": 25,
   "metadata": {},
   "outputs": [
    {
     "data": {
      "text/html": [
       "<div>\n",
       "<style scoped>\n",
       "    .dataframe tbody tr th:only-of-type {\n",
       "        vertical-align: middle;\n",
       "    }\n",
       "\n",
       "    .dataframe tbody tr th {\n",
       "        vertical-align: top;\n",
       "    }\n",
       "\n",
       "    .dataframe thead th {\n",
       "        text-align: right;\n",
       "    }\n",
       "</style>\n",
       "<table border=\"1\" class=\"dataframe\">\n",
       "  <thead>\n",
       "    <tr style=\"text-align: right;\">\n",
       "      <th></th>\n",
       "      <th>problem1</th>\n",
       "      <th>problem2</th>\n",
       "    </tr>\n",
       "  </thead>\n",
       "  <tbody>\n",
       "    <tr>\n",
       "      <th>GKB</th>\n",
       "      <td>1.471388</td>\n",
       "      <td>134.401039</td>\n",
       "    </tr>\n",
       "    <tr>\n",
       "      <th>SPG</th>\n",
       "      <td>2.942115</td>\n",
       "      <td>0.876950</td>\n",
       "    </tr>\n",
       "    <tr>\n",
       "      <th>GPI</th>\n",
       "      <td>25.904895</td>\n",
       "      <td>3.365831</td>\n",
       "    </tr>\n",
       "    <tr>\n",
       "      <th>EB</th>\n",
       "      <td>688.107233</td>\n",
       "      <td>213.979681</td>\n",
       "    </tr>\n",
       "  </tbody>\n",
       "</table>\n",
       "</div>"
      ],
      "text/plain": [
       "       problem1    problem2\n",
       "GKB    1.471388  134.401039\n",
       "SPG    2.942115    0.876950\n",
       "GPI   25.904895    3.365831\n",
       "EB   688.107233  213.979681"
      ]
     },
     "execution_count": 25,
     "metadata": {},
     "output_type": "execute_result"
    }
   ],
   "source": [
    "results['problem2'] = pd.Series([t2_gkb, t2_spg, t2_gpi, t2_eb], index=results.index)\n",
    "results"
   ]
  },
  {
   "cell_type": "markdown",
   "metadata": {},
   "source": [
    "## Problem 3"
   ]
  },
  {
   "cell_type": "code",
   "execution_count": 26,
   "metadata": {},
   "outputs": [],
   "source": [
    "problem3 = skp.ProcrustesProblem((1000, 1000, 5, 5), problemnumber=3)"
   ]
  },
  {
   "cell_type": "markdown",
   "metadata": {},
   "source": [
    "### Problem 3: GKB"
   ]
  },
  {
   "cell_type": "code",
   "execution_count": 27,
   "metadata": {},
   "outputs": [
    {
     "name": "stdout",
     "output_type": "stream",
     "text": [
      "Warning: Maximum number of iterations has been exceeded.\n",
      "16.48031449317932\n"
     ]
    }
   ],
   "source": [
    "t0 = time.time(); results3_gkb = gkbsolver.solve(problem3); t3_gkb = time.time()-t0; print(t3_gkb)"
   ]
  },
  {
   "cell_type": "code",
   "execution_count": 28,
   "metadata": {},
   "outputs": [
    {
     "name": "stdout",
     "output_type": "stream",
     "text": [
      "=========\n",
      " Summary:\n",
      "=========\n",
      "success : True\n",
      "status : 0\n",
      "message : Optimization terminated successfully.\n",
      "fun : 1.8625327818062572e-06\n",
      "normgrad : 5.844948773162279e-05\n",
      "nbiter : 2744.1550000000007\n",
      "nfev : 4660.020000000038\n",
      "blocksteps : 42\n"
     ]
    }
   ],
   "source": [
    "results3_gkb.show()"
   ]
  },
  {
   "cell_type": "markdown",
   "metadata": {},
   "source": [
    "### Problem 3: SPG"
   ]
  },
  {
   "cell_type": "code",
   "execution_count": 29,
   "metadata": {},
   "outputs": [
    {
     "name": "stdout",
     "output_type": "stream",
     "text": [
      "0.5183501243591309\n"
     ]
    }
   ],
   "source": [
    "t0 = time.time(); results3_spg = spgsolver.solve(problem3); t3_spg = time.time()-t0; print(t3_spg)"
   ]
  },
  {
   "cell_type": "code",
   "execution_count": 30,
   "metadata": {},
   "outputs": [
    {
     "name": "stdout",
     "output_type": "stream",
     "text": [
      "=========\n",
      " Summary:\n",
      "=========\n",
      "success : True\n",
      "status : 0\n",
      "message : Optimization terminated successfully.\n",
      "fun : 0.001402353910427962\n",
      "normgrad : 0.0009928347533418084\n",
      "nbiter : 87\n",
      "nfev : 127.0\n"
     ]
    }
   ],
   "source": [
    "results3_spg.show()"
   ]
  },
  {
   "cell_type": "markdown",
   "metadata": {},
   "source": [
    "### Problem 3: GPI"
   ]
  },
  {
   "cell_type": "code",
   "execution_count": 31,
   "metadata": {},
   "outputs": [
    {
     "name": "stdout",
     "output_type": "stream",
     "text": [
      "4.191292762756348\n"
     ]
    }
   ],
   "source": [
    "t0 = time.time(); results3_gpi = gpisolver.solve(problem3); t3_gpi = time.time()-t0; print(t3_gpi)"
   ]
  },
  {
   "cell_type": "code",
   "execution_count": 32,
   "metadata": {},
   "outputs": [
    {
     "name": "stdout",
     "output_type": "stream",
     "text": [
      "=========\n",
      " Summary:\n",
      "=========\n",
      "success : True\n",
      "status : 0\n",
      "message : Optimization terminated successfully.\n",
      "fun : 0.001415648322331691\n",
      "nbiter : 435\n",
      "nfev : 436\n"
     ]
    }
   ],
   "source": [
    "results3_gpi.show()"
   ]
  },
  {
   "cell_type": "markdown",
   "metadata": {},
   "source": [
    "### Problem 3: EB"
   ]
  },
  {
   "cell_type": "code",
   "execution_count": 33,
   "metadata": {},
   "outputs": [
    {
     "name": "stdout",
     "output_type": "stream",
     "text": [
      "107.37181639671326\n"
     ]
    }
   ],
   "source": [
    "t0 = time.time(); results3_eb = ebsolver.solve(problem3); t3_eb = time.time()-t0; print(t3_eb)"
   ]
  },
  {
   "cell_type": "code",
   "execution_count": 34,
   "metadata": {},
   "outputs": [
    {
     "name": "stdout",
     "output_type": "stream",
     "text": [
      "=========\n",
      " Summary:\n",
      "=========\n",
      "success : True\n",
      "status : 0\n",
      "message : Optimization terminated successfully.\n",
      "fun : 0.0014023538388620214\n",
      "nbiter : 168\n",
      "nfev : 169\n"
     ]
    }
   ],
   "source": [
    "results3_eb.show()"
   ]
  },
  {
   "cell_type": "markdown",
   "metadata": {},
   "source": [
    "### Problem 3: All"
   ]
  },
  {
   "cell_type": "code",
   "execution_count": 35,
   "metadata": {},
   "outputs": [
    {
     "data": {
      "text/plain": [
       "Text(0.5,1,'Problem 3')"
      ]
     },
     "execution_count": 35,
     "metadata": {},
     "output_type": "execute_result"
    },
    {
     "data": {
      "image/png": "[encoded data removed]",
      "text/plain": [
       "<Figure size 432x288 with 1 Axes>"
      ]
     },
     "metadata": {},
     "output_type": "display_data"
    }
   ],
   "source": [
    "gkb, spg, gpi, eb = plt.bar([0,1,2,3], [t3_gkb, t3_spg, t3_gpi, t3_eb])\n",
    "gkb.set_facecolor('r')\n",
    "spg.set_facecolor('g')\n",
    "gpi.set_facecolor('b')\n",
    "eb.set_facecolor('m')\n",
    "ax = plt.gca()\n",
    "ax.set_xticks([0,1,2,3])\n",
    "ax.set_xticklabels(['GKB', 'SPG', 'GPI', 'EB'])\n",
    "#ax.set_ylim([0, 100])\n",
    "ax.set_ylabel('CPU Time')\n",
    "ax.set_title('Problem 3')"
   ]
  },
  {
   "cell_type": "code",
   "execution_count": 36,
   "metadata": {},
   "outputs": [
    {
     "data": {
      "text/html": [
       "<div>\n",
       "<style scoped>\n",
       "    .dataframe tbody tr th:only-of-type {\n",
       "        vertical-align: middle;\n",
       "    }\n",
       "\n",
       "    .dataframe tbody tr th {\n",
       "        vertical-align: top;\n",
       "    }\n",
       "\n",
       "    .dataframe thead th {\n",
       "        text-align: right;\n",
       "    }\n",
       "</style>\n",
       "<table border=\"1\" class=\"dataframe\">\n",
       "  <thead>\n",
       "    <tr style=\"text-align: right;\">\n",
       "      <th></th>\n",
       "      <th>problem1</th>\n",
       "      <th>problem2</th>\n",
       "      <th>problem3</th>\n",
       "    </tr>\n",
       "  </thead>\n",
       "  <tbody>\n",
       "    <tr>\n",
       "      <th>GKB</th>\n",
       "      <td>1.471388</td>\n",
       "      <td>134.401039</td>\n",
       "      <td>16.480314</td>\n",
       "    </tr>\n",
       "    <tr>\n",
       "      <th>SPG</th>\n",
       "      <td>2.942115</td>\n",
       "      <td>0.876950</td>\n",
       "      <td>0.518350</td>\n",
       "    </tr>\n",
       "    <tr>\n",
       "      <th>GPI</th>\n",
       "      <td>25.904895</td>\n",
       "      <td>3.365831</td>\n",
       "      <td>4.191293</td>\n",
       "    </tr>\n",
       "    <tr>\n",
       "      <th>EB</th>\n",
       "      <td>688.107233</td>\n",
       "      <td>213.979681</td>\n",
       "      <td>107.371816</td>\n",
       "    </tr>\n",
       "  </tbody>\n",
       "</table>\n",
       "</div>"
      ],
      "text/plain": [
       "       problem1    problem2    problem3\n",
       "GKB    1.471388  134.401039   16.480314\n",
       "SPG    2.942115    0.876950    0.518350\n",
       "GPI   25.904895    3.365831    4.191293\n",
       "EB   688.107233  213.979681  107.371816"
      ]
     },
     "execution_count": 36,
     "metadata": {},
     "output_type": "execute_result"
    }
   ],
   "source": [
    "results['problem3'] = pd.Series([t3_gkb, t3_spg, t3_gpi, t3_eb], index=results.index)\n",
    "results"
   ]
  },
  {
   "cell_type": "markdown",
   "metadata": {},
   "source": [
    "## 2. Comparison between blobop and old residual for GKBSolver."
   ]
  },
  {
   "cell_type": "code",
   "execution_count": 37,
   "metadata": {},
   "outputs": [],
   "source": [
    "gkbsolver_blobop = skp.GKBSolver(verbose=0, bloboptest = True)"
   ]
  },
  {
   "cell_type": "markdown",
   "metadata": {},
   "source": [
    "### Problem 1"
   ]
  },
  {
   "cell_type": "code",
   "execution_count": 38,
   "metadata": {},
   "outputs": [
    {
     "name": "stdout",
     "output_type": "stream",
     "text": [
      "1.7203334103252108\n",
      "1.0\n",
      "1.3322676295501878e-15\n",
      "7.74424086374244e-16\n",
      "1.758444490031985\n",
      "1.0\n",
      "1.4914363659789989\n",
      "5.585734034381035\n",
      "0.1537627197686221\n",
      "1.357783309091442\n",
      "6.719450008808858e-05\n",
      "0.0005930011385221925\n",
      "1.7631468088764444\n",
      "1.0\n",
      "1.4914093579639718\n",
      "5.4884203592693535\n",
      "0.244550970328774\n",
      "8.995315505288659\n",
      "0.01620703429405062\n",
      "1.4761249216484937\n",
      "0.00038529458588081045\n",
      "0.03636861134844803\n"
     ]
    }
   ],
   "source": [
    "t0 = time.time(); results1_gkbblobop = gkbsolver_blobop.solve(problem1); t1_blobop = time.time()-t0"
   ]
  },
  {
   "cell_type": "code",
   "execution_count": 39,
   "metadata": {},
   "outputs": [
    {
     "name": "stdout",
     "output_type": "stream",
     "text": [
      "=========\n",
      " Summary:\n",
      "=========\n",
      "success : True\n",
      "status : 0\n",
      "message : Optimization terminated successfully.\n",
      "fun : 9.358376313116639e-07\n",
      "normgrad : 3.1601087154878066e-05\n",
      "nbiter : 0.07200000000000001\n",
      "nfev : 0.09000000000000002\n",
      "blocksteps : 3\n"
     ]
    }
   ],
   "source": [
    "results1_gkbblobop.show()"
   ]
  },
  {
   "cell_type": "code",
   "execution_count": 40,
   "metadata": {},
   "outputs": [
    {
     "name": "stdout",
     "output_type": "stream",
     "text": [
      "=========\n",
      " Summary:\n",
      "=========\n",
      "success : True\n",
      "status : 0\n",
      "message : Optimization terminated successfully.\n",
      "fun : 9.369117093649114e-07\n",
      "normgrad : 1.2722151536843884e-05\n",
      "nbiter : 0.094\n",
      "nfev : 0.11200000000000004\n",
      "blocksteps : 3\n"
     ]
    }
   ],
   "source": [
    "results1_gkb.show()"
   ]
  },
  {
   "cell_type": "code",
   "execution_count": 41,
   "metadata": {},
   "outputs": [
    {
     "data": {
      "text/plain": [
       "Text(0.5,1,'Problem 1')"
      ]
     },
     "execution_count": 41,
     "metadata": {},
     "output_type": "execute_result"
    },
    {
     "data": {
      "image/png": "[encoded data removed]",
      "text/plain": [
       "<Figure size 432x288 with 1 Axes>"
      ]
     },
     "metadata": {},
     "output_type": "display_data"
    }
   ],
   "source": [
    "gkb, blobop = plt.bar([0,1], [t1_gkb, t1_blobop])\n",
    "gkb.set_facecolor('r')\n",
    "blobop.set_facecolor('y')\n",
    "ax = plt.gca()\n",
    "ax.set_xticks([0,1])\n",
    "ax.set_xticklabels(['GKB', 'BLOBOP'])\n",
    "#ax.set_ylim([0, 100])\n",
    "ax.set_ylabel('CPU Time')\n",
    "ax.set_title('Problem 1')"
   ]
  },
  {
   "cell_type": "code",
   "execution_count": 42,
   "metadata": {},
   "outputs": [
    {
     "data": {
      "text/plain": [
       "Text(0.5,1,'Problem 1')"
      ]
     },
     "execution_count": 42,
     "metadata": {},
     "output_type": "execute_result"
    },
    {
     "data": {
      "image/png": "[encoded data removed]",
      "text/plain": [
       "<Figure size 432x288 with 1 Axes>"
      ]
     },
     "metadata": {},
     "output_type": "display_data"
    }
   ],
   "source": [
    "gkb, spg, gpi, eb, blobop = plt.bar([0,1,2,3,4], [t1_gkb, t1_spg, t1_gpi, t1_eb, t1_blobop])\n",
    "gkb.set_facecolor('r')\n",
    "spg.set_facecolor('g')\n",
    "gpi.set_facecolor('b')\n",
    "eb.set_facecolor('m')\n",
    "blobop.set_facecolor('y')\n",
    "ax = plt.gca()\n",
    "ax.set_xticks([0,1,2,3,4])\n",
    "ax.set_xticklabels(['GKB', 'SPG', 'GPI', 'EB', 'BLOBOP'])\n",
    "#ax.set_ylim([0, 100])\n",
    "ax.set_ylabel('CPU Time')\n",
    "ax.set_title('Problem 1')"
   ]
  },
  {
   "cell_type": "markdown",
   "metadata": {},
   "source": [
    "### Problem 2"
   ]
  },
  {
   "cell_type": "code",
   "execution_count": 43,
   "metadata": {},
   "outputs": [
    {
     "name": "stdout",
     "output_type": "stream",
     "text": [
      "Warning: Maximum number of iterations has been exceeded.(inner loop)\n"
     ]
    }
   ],
   "source": [
    "t0 = time.time(); results2_gkbblobop = gkbsolver_blobop.solve(problem2); t2_blobop = time.time()-t0"
   ]
  },
  {
   "cell_type": "code",
   "execution_count": 44,
   "metadata": {},
   "outputs": [
    {
     "name": "stdout",
     "output_type": "stream",
     "text": [
      "=========\n",
      " Summary:\n",
      "=========\n",
      "success : True\n",
      "status : 0\n",
      "message : Optimization terminated successfully.\n",
      "fun : 9.714534504352091e-10\n",
      "normgrad : 0.0005747080235456682\n",
      "nbiter : 1335.9699999999998\n",
      "nfev : 2667.750000000026\n",
      "blocksteps : 100\n"
     ]
    }
   ],
   "source": [
    "results2_gkbblobop.show()"
   ]
  },
  {
   "cell_type": "code",
   "execution_count": 45,
   "metadata": {},
   "outputs": [
    {
     "name": "stdout",
     "output_type": "stream",
     "text": [
      "=========\n",
      " Summary:\n",
      "=========\n",
      "success : True\n",
      "status : 0\n",
      "message : Optimization terminated successfully.\n",
      "fun : 2.106283571729108e-07\n",
      "normgrad : 0.00040962488584510043\n",
      "nbiter : 31345.65\n",
      "nfev : 53634.83999999842\n",
      "blocksteps : 96\n"
     ]
    }
   ],
   "source": [
    "results2_gkb.show()"
   ]
  },
  {
   "cell_type": "code",
   "execution_count": 46,
   "metadata": {},
   "outputs": [
    {
     "data": {
      "text/plain": [
       "Text(0.5,1,'Problem 2')"
      ]
     },
     "execution_count": 46,
     "metadata": {},
     "output_type": "execute_result"
    },
    {
     "data": {
      "image/png": "[encoded data removed]",
      "text/plain": [
       "<Figure size 432x288 with 1 Axes>"
      ]
     },
     "metadata": {},
     "output_type": "display_data"
    }
   ],
   "source": [
    "gkb, blobop = plt.bar([0,1], [t2_gkb, t2_blobop])\n",
    "gkb.set_facecolor('r')\n",
    "blobop.set_facecolor('y')\n",
    "ax = plt.gca()\n",
    "ax.set_xticks([0,1])\n",
    "ax.set_xticklabels(['GKB', 'BLOBOP'])\n",
    "#ax.set_ylim([0, 100])\n",
    "ax.set_ylabel('CPU Time')\n",
    "ax.set_title('Problem 2')"
   ]
  },
  {
   "cell_type": "code",
   "execution_count": 47,
   "metadata": {},
   "outputs": [
    {
     "data": {
      "text/plain": [
       "Text(0.5,1,'Problem 2')"
      ]
     },
     "execution_count": 47,
     "metadata": {},
     "output_type": "execute_result"
    },
    {
     "data": {
      "image/png": "[encoded data removed]",
      "text/plain": [
       "<Figure size 432x288 with 1 Axes>"
      ]
     },
     "metadata": {},
     "output_type": "display_data"
    }
   ],
   "source": [
    "gkb, spg, gpi, eb, blobop = plt.bar([0,1,2,3,4], [t2_gkb, t2_spg, t2_gpi, t2_eb, t2_blobop])\n",
    "gkb.set_facecolor('r')\n",
    "spg.set_facecolor('g')\n",
    "gpi.set_facecolor('b')\n",
    "eb.set_facecolor('m')\n",
    "blobop.set_facecolor('y')\n",
    "ax = plt.gca()\n",
    "ax.set_xticks([0,1,2,3,4])\n",
    "ax.set_xticklabels(['GKB', 'SPG', 'GPI', 'EB', 'BLOBOP'])\n",
    "#ax.set_ylim([0, 100])\n",
    "ax.set_ylabel('CPU Time')\n",
    "ax.set_title('Problem 2')"
   ]
  },
  {
   "cell_type": "markdown",
   "metadata": {},
   "source": [
    "### Problem 3"
   ]
  },
  {
   "cell_type": "code",
   "execution_count": 48,
   "metadata": {},
   "outputs": [],
   "source": [
    "t0 = time.time(); results3_gkbblobop = gkbsolver_blobop.solve(problem3); t3_blobop = time.time()-t0"
   ]
  },
  {
   "cell_type": "code",
   "execution_count": 49,
   "metadata": {},
   "outputs": [
    {
     "name": "stdout",
     "output_type": "stream",
     "text": [
      "=========\n",
      " Summary:\n",
      "=========\n",
      "success : True\n",
      "status : 0\n",
      "message : Optimization terminated successfully.\n",
      "fun : 0.0014034077612210157\n",
      "normgrad : 0.0007204203435865303\n",
      "nbiter : 600.185\n",
      "nfev : 717.8400000000001\n",
      "blocksteps : 200\n"
     ]
    }
   ],
   "source": [
    "results3_gkbblobop.show()"
   ]
  },
  {
   "cell_type": "code",
   "execution_count": 50,
   "metadata": {},
   "outputs": [
    {
     "name": "stdout",
     "output_type": "stream",
     "text": [
      "=========\n",
      " Summary:\n",
      "=========\n",
      "success : True\n",
      "status : 0\n",
      "message : Optimization terminated successfully.\n",
      "fun : 1.8625327818062572e-06\n",
      "normgrad : 5.844948773162279e-05\n",
      "nbiter : 2744.1550000000007\n",
      "nfev : 4660.020000000038\n",
      "blocksteps : 42\n"
     ]
    }
   ],
   "source": [
    "results3_gkb.show()"
   ]
  },
  {
   "cell_type": "code",
   "execution_count": 51,
   "metadata": {},
   "outputs": [
    {
     "data": {
      "text/plain": [
       "Text(0.5,1,'Problem 3')"
      ]
     },
     "execution_count": 51,
     "metadata": {},
     "output_type": "execute_result"
    },
    {
     "data": {
      "image/png": "[encoded data removed]",
      "text/plain": [
       "<Figure size 432x288 with 1 Axes>"
      ]
     },
     "metadata": {},
     "output_type": "display_data"
    }
   ],
   "source": [
    "gkb, blobop = plt.bar([0,1], [t3_gkb, t3_blobop])\n",
    "gkb.set_facecolor('r')\n",
    "blobop.set_facecolor('y')\n",
    "ax = plt.gca()\n",
    "ax.set_xticks([0,1])\n",
    "ax.set_xticklabels(['GKB', 'BLOBOP'])\n",
    "#ax.set_ylim([0, 100])\n",
    "ax.set_ylabel('CPU Time')\n",
    "ax.set_title('Problem 3')"
   ]
  },
  {
   "cell_type": "code",
   "execution_count": 52,
   "metadata": {},
   "outputs": [
    {
     "data": {
      "text/plain": [
       "Text(0.5,1,'Problem 3')"
      ]
     },
     "execution_count": 52,
     "metadata": {},
     "output_type": "execute_result"
    },
    {
     "data": {
      "image/png": "[encoded data removed]",
      "text/plain": [
       "<Figure size 432x288 with 1 Axes>"
      ]
     },
     "metadata": {},
     "output_type": "display_data"
    }
   ],
   "source": [
    "gkb, spg, gpi, eb, blobop = plt.bar([0,1,2,3,4], [t3_gkb, t3_spg, t3_gpi, t3_eb, t3_blobop])\n",
    "gkb.set_facecolor('r')\n",
    "spg.set_facecolor('g')\n",
    "gpi.set_facecolor('b')\n",
    "eb.set_facecolor('m')\n",
    "blobop.set_facecolor('y')\n",
    "ax = plt.gca()\n",
    "ax.set_xticks([0,1,2,3,4])\n",
    "ax.set_xticklabels(['GKB', 'SPG', 'GPI', 'EB', 'BLOBOP'])\n",
    "#ax.set_ylim([0, 100])\n",
    "ax.set_ylabel('CPU Time')\n",
    "ax.set_title('Problem 3')"
   ]
  },
  {
   "cell_type": "code",
   "execution_count": 53,
   "metadata": {},
   "outputs": [
    {
     "data": {
      "text/html": [
       "<div>\n",
       "<style scoped>\n",
       "    .dataframe tbody tr th:only-of-type {\n",
       "        vertical-align: middle;\n",
       "    }\n",
       "\n",
       "    .dataframe tbody tr th {\n",
       "        vertical-align: top;\n",
       "    }\n",
       "\n",
       "    .dataframe thead th {\n",
       "        text-align: right;\n",
       "    }\n",
       "</style>\n",
       "<table border=\"1\" class=\"dataframe\">\n",
       "  <thead>\n",
       "    <tr style=\"text-align: right;\">\n",
       "      <th></th>\n",
       "      <th>problem1</th>\n",
       "      <th>problem2</th>\n",
       "      <th>problem3</th>\n",
       "    </tr>\n",
       "  </thead>\n",
       "  <tbody>\n",
       "    <tr>\n",
       "      <th>GKB</th>\n",
       "      <td>1.471388</td>\n",
       "      <td>134.401039</td>\n",
       "      <td>16.480314</td>\n",
       "    </tr>\n",
       "    <tr>\n",
       "      <th>SPG</th>\n",
       "      <td>2.942115</td>\n",
       "      <td>0.876950</td>\n",
       "      <td>0.518350</td>\n",
       "    </tr>\n",
       "    <tr>\n",
       "      <th>GPI</th>\n",
       "      <td>25.904895</td>\n",
       "      <td>3.365831</td>\n",
       "      <td>4.191293</td>\n",
       "    </tr>\n",
       "    <tr>\n",
       "      <th>EB</th>\n",
       "      <td>688.107233</td>\n",
       "      <td>213.979681</td>\n",
       "      <td>107.371816</td>\n",
       "    </tr>\n",
       "    <tr>\n",
       "      <th>BLOBOP</th>\n",
       "      <td>1.390089</td>\n",
       "      <td>8.566195</td>\n",
       "      <td>42.723635</td>\n",
       "    </tr>\n",
       "  </tbody>\n",
       "</table>\n",
       "</div>"
      ],
      "text/plain": [
       "          problem1    problem2    problem3\n",
       "GKB       1.471388  134.401039   16.480314\n",
       "SPG       2.942115    0.876950    0.518350\n",
       "GPI      25.904895    3.365831    4.191293\n",
       "EB      688.107233  213.979681  107.371816\n",
       "BLOBOP    1.390089    8.566195   42.723635"
      ]
     },
     "execution_count": 53,
     "metadata": {},
     "output_type": "execute_result"
    }
   ],
   "source": [
    "r = pd.DataFrame({'problem1' : t1_blobop, 'problem2' : t2_blobop, 'problem3' : t3_blobop}, index=['BLOBOP'])\n",
    "results = results.append(r)\n",
    "results"
   ]
  },
  {
   "cell_type": "markdown",
   "metadata": {},
   "source": [
    "## 3. Comparison between svd and polar decomposition on GKBSolver"
   ]
  },
  {
   "cell_type": "code",
   "execution_count": 54,
   "metadata": {},
   "outputs": [],
   "source": [
    "gkbpolar = skp.GKBSolver(verbose=0, polar=\"ns\")\n",
    "gkbpolarblobop = skp.GKBSolver(verbose=0, polar=\"ns\", bloboptest=True)"
   ]
  },
  {
   "cell_type": "markdown",
   "metadata": {},
   "source": [
    "### Problem 1"
   ]
  },
  {
   "cell_type": "code",
   "execution_count": 55,
   "metadata": {},
   "outputs": [],
   "source": [
    "t0 = time.time(); results1_gkbpolar = gkbpolar.solve(problem1); t1_gkbpolar = time.time()-t0"
   ]
  },
  {
   "cell_type": "code",
   "execution_count": 56,
   "metadata": {},
   "outputs": [
    {
     "name": "stdout",
     "output_type": "stream",
     "text": [
      "=========\n",
      " Summary:\n",
      "=========\n",
      "success : True\n",
      "status : 0\n",
      "message : Optimization terminated successfully.\n",
      "fun : 9.364957452178045e-07\n",
      "normgrad : 1.2715412779723001e-05\n",
      "nbiter : 0.094\n",
      "nfev : 0.11200000000000004\n",
      "blocksteps : 3\n"
     ]
    }
   ],
   "source": [
    "results1_gkbpolar.show()"
   ]
  },
  {
   "cell_type": "code",
   "execution_count": 57,
   "metadata": {},
   "outputs": [],
   "source": [
    "t0 = time.time(); results1_gkbpolarblobop = gkbpolarblobop.solve(problem1); t1_gkbpolarblobop = time.time()-t0"
   ]
  },
  {
   "cell_type": "code",
   "execution_count": 58,
   "metadata": {},
   "outputs": [
    {
     "name": "stdout",
     "output_type": "stream",
     "text": [
      "=========\n",
      " Summary:\n",
      "=========\n",
      "success : True\n",
      "status : 0\n",
      "message : Optimization terminated successfully.\n",
      "fun : 9.364152738911131e-07\n",
      "normgrad : 3.159041263489263e-05\n",
      "nbiter : 0.07200000000000001\n",
      "nfev : 0.09000000000000002\n",
      "blocksteps : 3\n"
     ]
    }
   ],
   "source": [
    "results1_gkbpolarblobop.show()"
   ]
  },
  {
   "cell_type": "code",
   "execution_count": 59,
   "metadata": {},
   "outputs": [
    {
     "data": {
      "text/plain": [
       "Text(0.5,1,'Problem 1')"
      ]
     },
     "execution_count": 59,
     "metadata": {},
     "output_type": "execute_result"
    },
    {
     "data": {
      "image/png": "[encoded data removed]",
      "text/plain": [
       "<Figure size 432x288 with 1 Axes>"
      ]
     },
     "metadata": {},
     "output_type": "display_data"
    }
   ],
   "source": [
    "gkb, polarblobop, polar = plt.bar([0,1,2], [t1_gkb, t1_gkbpolarblobop, t1_gkbpolar])\n",
    "gkb.set_facecolor('r')\n",
    "polarblobop.set_facecolor('g')\n",
    "polar.set_facecolor('b')\n",
    "ax = plt.gca()\n",
    "ax.set_xticks([0,1,2])\n",
    "ax.set_xticklabels(['GKB', 'POLAR+BLOBOP', 'POLAR'])\n",
    "#ax.set_ylim([0, 100])\n",
    "ax.set_ylabel('CPU Time')\n",
    "ax.set_title('Problem 1')"
   ]
  },
  {
   "cell_type": "markdown",
   "metadata": {},
   "source": [
    "### Problem 2"
   ]
  },
  {
   "cell_type": "code",
   "execution_count": 60,
   "metadata": {},
   "outputs": [
    {
     "name": "stdout",
     "output_type": "stream",
     "text": [
      "Warning: Negative PRED\n",
      "Warning: Negative PRED\n",
      "Warning: Negative PRED\n",
      "Warning: Negative PRED\n",
      "Warning: Negative PRED\n",
      "Warning: Negative PRED\n",
      "Warning: Negative PRED\n",
      "Warning: Negative PRED\n",
      "Warning: Negative PRED\n",
      "Warning: Negative PRED\n",
      "Warning: Negative PRED\n",
      "Warning: Negative PRED\n",
      "Warning: Negative PRED\n",
      "Warning: Negative PRED\n",
      "Warning: Negative PRED\n",
      "Warning: Negative PRED\n",
      "Warning: Negative PRED\n",
      "Warning: Negative PRED\n",
      "Warning: Negative PRED\n",
      "Warning: Negative PRED\n",
      "Warning: Negative PRED\n",
      "Warning: Negative PRED\n",
      "Warning: Negative PRED\n",
      "Warning: Negative PRED\n",
      "Warning: Negative PRED\n",
      "Warning: Negative PRED\n",
      "Warning: Negative PRED\n",
      "Warning: Negative PRED\n",
      "Warning: Negative PRED\n",
      "Warning: Negative PRED\n",
      "Warning: Negative PRED\n",
      "Warning: Negative PRED\n",
      "Warning: Negative PRED\n",
      "Warning: Negative PRED\n",
      "Warning: Negative PRED\n",
      "Warning: Negative PRED\n",
      "Warning: Negative PRED\n",
      "Warning: Negative PRED\n",
      "Warning: Negative PRED\n",
      "Warning: Negative PRED\n",
      "Warning: Negative PRED\n",
      "Warning: Negative PRED\n",
      "Warning: Negative PRED\n",
      "Warning: Negative PRED\n",
      "Warning: Negative PRED\n",
      "Warning: Negative PRED\n",
      "Warning: Negative PRED\n",
      "Warning: Negative PRED\n",
      "Warning: Negative PRED\n",
      "Warning: Negative PRED\n",
      "Warning: Negative PRED\n",
      "Warning: Negative PRED\n",
      "Warning: Negative PRED\n",
      "Warning: Negative PRED\n",
      "Warning: Negative PRED\n",
      "Warning: Negative PRED\n",
      "Warning: Negative PRED\n",
      "Warning: Negative PRED\n",
      "Warning: Negative PRED\n",
      "Warning: Negative PRED\n",
      "Warning: Negative PRED\n",
      "Warning: Negative PRED\n",
      "Warning: Negative PRED\n",
      "Warning: Negative PRED\n",
      "Warning: Negative PRED\n",
      "Warning: Negative PRED\n",
      "Warning: Negative PRED\n",
      "Warning: Negative PRED\n",
      "Warning: Negative PRED\n",
      "Warning: Negative PRED\n",
      "Warning: Negative PRED\n",
      "Warning: Negative PRED\n",
      "Warning: Negative PRED\n",
      "Warning: Negative PRED\n",
      "Warning: Negative PRED\n",
      "Warning: Negative PRED\n",
      "Warning: Negative PRED\n",
      "Warning: Negative PRED\n",
      "Warning: Negative PRED\n",
      "Warning: Negative PRED\n",
      "Warning: Negative PRED\n",
      "Warning: Negative PRED\n",
      "Warning: Negative PRED\n",
      "Warning: Negative PRED\n",
      "Warning: Negative PRED\n",
      "Warning: Negative PRED\n",
      "Warning: Negative PRED\n",
      "Warning: Negative PRED\n",
      "Warning: Negative PRED\n",
      "Warning: Negative PRED\n",
      "Warning: Negative PRED\n",
      "Warning: Negative PRED\n",
      "Warning: Negative PRED\n",
      "Warning: Negative PRED\n",
      "Warning: Negative PRED\n",
      "Warning: Negative PRED\n",
      "Warning: Negative PRED\n",
      "Warning: Negative PRED\n",
      "Warning: Negative PRED\n",
      "Warning: Negative PRED\n",
      "Warning: Negative PRED\n",
      "Warning: Negative PRED\n",
      "Warning: Negative PRED\n",
      "Warning: Negative PRED\n",
      "Warning: Negative PRED\n",
      "Warning: Negative PRED\n",
      "Warning: Negative PRED\n",
      "Warning: Negative PRED\n",
      "Warning: Negative PRED\n",
      "Warning: Negative PRED\n",
      "Warning: Negative PRED\n",
      "Warning: Negative PRED\n",
      "Warning: Negative PRED\n",
      "Warning: Negative PRED\n",
      "Warning: Negative PRED\n",
      "Warning: Negative PRED\n",
      "Warning: Negative PRED\n",
      "Warning: Negative PRED\n",
      "Warning: Negative PRED\n",
      "Warning: Negative PRED\n",
      "Warning: Negative PRED\n",
      "Warning: Negative PRED\n",
      "Warning: Negative PRED\n",
      "Warning: Negative PRED\n",
      "Warning: Negative PRED\n",
      "Warning: Negative PRED\n",
      "Warning: Negative PRED\n",
      "Warning: Negative PRED\n",
      "Warning: Negative PRED\n",
      "Warning: Negative PRED\n",
      "Warning: Negative PRED\n",
      "Warning: Negative PRED\n",
      "Warning: Negative PRED\n",
      "Warning: Negative PRED\n",
      "Warning: Negative PRED\n",
      "Warning: Negative PRED\n",
      "Warning: Negative PRED\n",
      "Warning: Negative PRED\n",
      "Warning: Negative PRED\n",
      "Warning: Negative PRED\n",
      "Warning: Negative PRED\n",
      "Warning: Negative PRED\n",
      "Warning: Negative PRED\n",
      "Warning: Negative PRED\n",
      "Warning: Negative PRED\n",
      "Warning: Negative PRED\n",
      "Warning: Negative PRED\n",
      "Warning: Negative PRED\n",
      "Warning: Negative PRED\n",
      "Warning: Negative PRED\n",
      "Warning: Negative PRED\n",
      "Warning: Negative PRED\n",
      "Warning: Negative PRED\n",
      "Warning: Negative PRED\n",
      "Warning: Negative PRED\n",
      "Warning: Negative PRED\n",
      "Warning: Negative PRED\n",
      "Warning: Negative PRED\n",
      "Warning: Negative PRED\n",
      "Warning: Negative PRED\n",
      "Warning: Negative PRED\n",
      "Warning: Negative PRED\n",
      "Warning: Negative PRED\n",
      "Warning: Negative PRED\n",
      "Warning: Negative PRED\n",
      "Warning: Negative PRED\n",
      "Warning: Negative PRED\n",
      "Warning: Negative PRED\n",
      "Warning: Negative PRED\n",
      "Warning: Negative PRED\n",
      "Warning: Negative PRED\n",
      "Warning: Negative PRED\n",
      "Warning: Negative PRED\n",
      "Warning: Negative PRED\n",
      "Warning: Negative PRED\n",
      "Warning: Negative PRED\n",
      "Warning: Negative PRED\n",
      "Warning: Negative PRED\n",
      "Warning: Negative PRED\n",
      "Warning: Negative PRED\n",
      "Warning: Negative PRED\n",
      "Warning: Negative PRED\n",
      "Warning: Negative PRED\n",
      "Warning: Negative PRED\n",
      "Warning: Negative PRED\n",
      "Warning: Negative PRED\n",
      "Warning: Negative PRED\n",
      "Warning: Negative PRED\n",
      "Warning: Negative PRED\n",
      "Warning: Negative PRED\n",
      "Warning: Negative PRED\n",
      "Warning: Negative PRED\n",
      "Warning: Negative PRED\n",
      "Warning: Negative PRED\n",
      "Warning: Negative PRED\n",
      "Warning: Negative PRED\n",
      "Warning: Negative PRED\n",
      "Warning: Negative PRED\n",
      "Warning: Negative PRED\n",
      "Warning: Negative PRED\n",
      "Warning: Negative PRED\n",
      "Warning: Negative PRED\n",
      "Warning: Negative PRED\n",
      "Warning: Negative PRED\n",
      "Warning: Negative PRED\n",
      "Warning: Negative PRED\n",
      "Warning: Negative PRED\n",
      "Warning: Negative PRED\n",
      "Warning: Negative PRED\n",
      "Warning: Negative PRED\n",
      "Warning: Negative PRED\n",
      "Warning: Negative PRED\n",
      "Warning: Negative PRED\n",
      "Warning: Negative PRED\n",
      "Warning: Negative PRED\n",
      "Warning: Negative PRED\n",
      "Warning: Negative PRED\n",
      "Warning: Negative PRED\n",
      "Warning: Negative PRED\n",
      "Warning: Negative PRED\n",
      "Warning: Negative PRED\n",
      "Warning: Negative PRED\n",
      "Warning: Negative PRED\n",
      "Warning: Negative PRED\n",
      "Warning: Negative PRED\n",
      "Warning: Negative PRED\n",
      "Warning: Negative PRED\n",
      "Warning: Negative PRED\n",
      "Warning: Negative PRED\n",
      "Warning: Negative PRED\n",
      "Warning: Negative PRED\n",
      "Warning: Negative PRED\n",
      "Warning: Negative PRED\n",
      "Warning: Negative PRED\n",
      "Warning: Negative PRED\n",
      "Warning: Negative PRED\n",
      "Warning: Negative PRED\n",
      "Warning: Negative PRED\n"
     ]
    },
    {
     "ename": "Exception",
     "evalue": "Warning: constraint violation = 0.2701938715874206",
     "output_type": "error",
     "traceback": [
      "\u001b[0;31m---------------------------------------------------------------------------\u001b[0m",
      "\u001b[0;31mException\u001b[0m                                 Traceback (most recent call last)",
      "\u001b[0;32m<ipython-input-60-3ff68786e759>\u001b[0m in \u001b[0;36m<module>\u001b[0;34m()\u001b[0m\n\u001b[0;32m----> 1\u001b[0;31m \u001b[0mt0\u001b[0m \u001b[0;34m=\u001b[0m \u001b[0mtime\u001b[0m\u001b[0;34m.\u001b[0m\u001b[0mtime\u001b[0m\u001b[0;34m(\u001b[0m\u001b[0;34m)\u001b[0m\u001b[0;34m;\u001b[0m \u001b[0mresults2_gkbpolar\u001b[0m \u001b[0;34m=\u001b[0m \u001b[0mgkbpolar\u001b[0m\u001b[0;34m.\u001b[0m\u001b[0msolve\u001b[0m\u001b[0;34m(\u001b[0m\u001b[0mproblem2\u001b[0m\u001b[0;34m)\u001b[0m\u001b[0;34m;\u001b[0m \u001b[0mt2_gkbpolar\u001b[0m \u001b[0;34m=\u001b[0m \u001b[0mtime\u001b[0m\u001b[0;34m.\u001b[0m\u001b[0mtime\u001b[0m\u001b[0;34m(\u001b[0m\u001b[0;34m)\u001b[0m\u001b[0;34m-\u001b[0m\u001b[0mt0\u001b[0m\u001b[0;34m\u001b[0m\u001b[0m\n\u001b[0m",
      "\u001b[0;32m~/numerics/skprocrustes-git/skprocrustes/skprocrustes.py\u001b[0m in \u001b[0;36msolve\u001b[0;34m(self, problem)\u001b[0m\n\u001b[1;32m    701\u001b[0m         X, fval, normgrad, exitcode, msg = spectral_setup(problem,\n\u001b[1;32m    702\u001b[0m                                                           \u001b[0mself\u001b[0m\u001b[0;34m.\u001b[0m\u001b[0msolvername\u001b[0m\u001b[0;34m,\u001b[0m\u001b[0;34m\u001b[0m\u001b[0m\n\u001b[0;32m--> 703\u001b[0;31m                                                           self.options)\n\u001b[0m\u001b[1;32m    704\u001b[0m \u001b[0;34m\u001b[0m\u001b[0m\n\u001b[1;32m    705\u001b[0m         \u001b[0;32mif\u001b[0m \u001b[0mself\u001b[0m\u001b[0;34m.\u001b[0m\u001b[0moptions\u001b[0m\u001b[0;34m[\u001b[0m\u001b[0;34m\"full_results\"\u001b[0m\u001b[0;34m]\u001b[0m\u001b[0;34m:\u001b[0m\u001b[0;34m\u001b[0m\u001b[0m\n",
      "\u001b[0;32m~/numerics/skprocrustes-git/skprocrustes/skprocrustes.py\u001b[0m in \u001b[0;36mspectral_setup\u001b[0;34m(problem, solvername, options)\u001b[0m\n\u001b[1;32m   1179\u001b[0m                                   \u001b[0mX\u001b[0m\u001b[0;34m[\u001b[0m\u001b[0;36m0\u001b[0m\u001b[0;34m:\u001b[0m\u001b[0msmalldim\u001b[0m\u001b[0;34m,\u001b[0m \u001b[0;36m0\u001b[0m\u001b[0;34m:\u001b[0m\u001b[0mp\u001b[0m\u001b[0;34m]\u001b[0m\u001b[0;34m,\u001b[0m \u001b[0mTk\u001b[0m\u001b[0;34m,\u001b[0m\u001b[0;34m\u001b[0m\u001b[0m\n\u001b[1;32m   1180\u001b[0m                                   \u001b[0mBk\u001b[0m\u001b[0;34m[\u001b[0m\u001b[0;36m0\u001b[0m\u001b[0;34m:\u001b[0m\u001b[0mlargedim\u001b[0m\u001b[0;34m,\u001b[0m \u001b[0;36m0\u001b[0m\u001b[0;34m:\u001b[0m\u001b[0mq\u001b[0m\u001b[0;34m]\u001b[0m\u001b[0;34m,\u001b[0m \u001b[0msolvername\u001b[0m\u001b[0;34m,\u001b[0m\u001b[0;34m\u001b[0m\u001b[0m\n\u001b[0;32m-> 1181\u001b[0;31m                                   options, inner, B1, blobopprod)\n\u001b[0m\u001b[1;32m   1182\u001b[0m \u001b[0;34m\u001b[0m\u001b[0m\n\u001b[1;32m   1183\u001b[0m             problem.stats[\"nbiter\"] = (problem.stats[\"nbiter\"] +\n",
      "\u001b[0;32m~/numerics/skprocrustes-git/skprocrustes/skprocrustes.py\u001b[0m in \u001b[0;36mspectral_solver\u001b[0;34m(problem, largedim, smalldim, X, A, B, solvername, options, inner, B1, blobopprod)\u001b[0m\n\u001b[1;32m   1486\u001b[0m                 \u001b[0mmsg\u001b[0m \u001b[0;34m=\u001b[0m \u001b[0m_status_message\u001b[0m\u001b[0;34m[\u001b[0m\u001b[0;34m'infeasible'\u001b[0m\u001b[0;34m]\u001b[0m\u001b[0;34m\u001b[0m\u001b[0m\n\u001b[1;32m   1487\u001b[0m                 raise Exception(\"Warning: constraint violation = {}\"\n\u001b[0;32m-> 1488\u001b[0;31m                                 .format(constraintviolation))\n\u001b[0m\u001b[1;32m   1489\u001b[0m             \u001b[0;31m#   return -1, f, X, normg, outer, msg\u001b[0m\u001b[0;34m\u001b[0m\u001b[0;34m\u001b[0m\u001b[0m\n\u001b[1;32m   1490\u001b[0m \u001b[0;34m\u001b[0m\u001b[0m\n",
      "\u001b[0;31mException\u001b[0m: Warning: constraint violation = 0.2701938715874206"
     ]
    }
   ],
   "source": [
    "t0 = time.time(); results2_gkbpolar = gkbpolar.solve(problem2); t2_gkbpolar = time.time()-t0"
   ]
  },
  {
   "cell_type": "code",
   "execution_count": 61,
   "metadata": {},
   "outputs": [
    {
     "ename": "NameError",
     "evalue": "name 'results2_gkbpolar' is not defined",
     "output_type": "error",
     "traceback": [
      "\u001b[0;31m---------------------------------------------------------------------------\u001b[0m",
      "\u001b[0;31mNameError\u001b[0m                                 Traceback (most recent call last)",
      "\u001b[0;32m<ipython-input-61-168ba44d6729>\u001b[0m in \u001b[0;36m<module>\u001b[0;34m()\u001b[0m\n\u001b[0;32m----> 1\u001b[0;31m \u001b[0mresults2_gkbpolar\u001b[0m\u001b[0;34m.\u001b[0m\u001b[0mshow\u001b[0m\u001b[0;34m(\u001b[0m\u001b[0;34m)\u001b[0m\u001b[0;34m\u001b[0m\u001b[0m\n\u001b[0m",
      "\u001b[0;31mNameError\u001b[0m: name 'results2_gkbpolar' is not defined"
     ]
    }
   ],
   "source": [
    "results2_gkbpolar.show()"
   ]
  },
  {
   "cell_type": "code",
   "execution_count": null,
   "metadata": {},
   "outputs": [],
   "source": [
    "t0 = time.time(); results2_gkbpolarblobop = gkbpolarblobop.solve(problem2); t2_gkbpolarblobop = time.time()-t0"
   ]
  },
  {
   "cell_type": "code",
   "execution_count": null,
   "metadata": {},
   "outputs": [],
   "source": [
    "results2_gkbpolarblobop.show()"
   ]
  },
  {
   "cell_type": "code",
   "execution_count": null,
   "metadata": {},
   "outputs": [],
   "source": [
    "gkb, polarblobop, polar = plt.bar([0,1,2], [t2_gkb, t2_gkbpolarblobop, t2_gkbpolar])\n",
    "gkb.set_facecolor('r')\n",
    "polarblobop.set_facecolor('g')\n",
    "polar.set_facecolor('b')\n",
    "ax = plt.gca()\n",
    "ax.set_xticks([0,1,2])\n",
    "ax.set_xticklabels(['GKB', 'POLAR+BLOBOP', 'POLAR'])\n",
    "#ax.set_ylim([0, 100])\n",
    "ax.set_ylabel('CPU Time')\n",
    "ax.set_title('Problem 2')"
   ]
  },
  {
   "cell_type": "markdown",
   "metadata": {},
   "source": [
    "### Problem 3"
   ]
  },
  {
   "cell_type": "code",
   "execution_count": null,
   "metadata": {},
   "outputs": [],
   "source": [
    "t0 = time.time(); results3_gkbpolar = gkbpolar.solve(problem3); t3_gkbpolar = time.time()-t0"
   ]
  },
  {
   "cell_type": "code",
   "execution_count": null,
   "metadata": {},
   "outputs": [],
   "source": [
    "results3_gkbpolar.show()"
   ]
  },
  {
   "cell_type": "code",
   "execution_count": null,
   "metadata": {},
   "outputs": [],
   "source": [
    "t0 = time.time(); results3_gkbpolarblobop = gkbpolarblobop.solve(problem3); t3_gkbpolarblobop = time.time()-t0"
   ]
  },
  {
   "cell_type": "code",
   "execution_count": null,
   "metadata": {},
   "outputs": [],
   "source": [
    "results3_gkbpolarblobop.show()"
   ]
  },
  {
   "cell_type": "code",
   "execution_count": null,
   "metadata": {},
   "outputs": [],
   "source": [
    "gkb, polarblobop, polar = plt.bar([0,1,2], [t3_gkb, t3_gkbpolarblobop, t3_gkbpolar])\n",
    "gkb.set_facecolor('r')\n",
    "polarblobop.set_facecolor('g')\n",
    "polar.set_facecolor('b')\n",
    "ax = plt.gca()\n",
    "ax.set_xticks([0,1,2])\n",
    "ax.set_xticklabels(['GKB', 'POLAR+BLOBOP', 'POLAR'])\n",
    "#ax.set_ylim([0, 100])\n",
    "ax.set_ylabel('CPU Time')\n",
    "ax.set_title('Problem 3')"
   ]
  },
  {
   "cell_type": "markdown",
   "metadata": {},
   "source": [
    "## 4. Comparison between all versions"
   ]
  },
  {
   "cell_type": "markdown",
   "metadata": {},
   "source": [
    "### Problem 1"
   ]
  },
  {
   "cell_type": "code",
   "execution_count": null,
   "metadata": {},
   "outputs": [],
   "source": [
    "gkb, blobop, polarblobop, polar, spg, gpi, eb = plt.bar([0, 1, 2, 3, 4, 5, 6], [t1_gkb, t1_blobop, t1_gkbpolarblobop, t1_gkbpolar, t1_spg, t1_gpi, t1_eb])\n",
    "gkb.set_facecolor('r')\n",
    "blobop.set_facecolor('k')\n",
    "polarblobop.set_facecolor('g')\n",
    "polar.set_facecolor('b')\n",
    "spg.set_facecolor('y')\n",
    "gpi.set_facecolor('m')\n",
    "eb.set_facecolor('c')\n",
    "ax = plt.gca()\n",
    "ax.set_xticks([0,1,2,3,4,5,6])\n",
    "ax.set_xticklabels(['GKB', 'BLOBOP', 'POLAR+BLOBOP', 'POLAR', 'SPG', 'GPI', 'EB'])\n",
    "#ax.set_ylim([0, 100])\n",
    "ax.set_ylabel('CPU Time')\n",
    "ax.set_title('Problem 1')"
   ]
  },
  {
   "cell_type": "markdown",
   "metadata": {},
   "source": [
    "### Problem 2"
   ]
  },
  {
   "cell_type": "markdown",
   "metadata": {},
   "source": [
    "### Problem 3"
   ]
  }
 ],
 "metadata": {
  "kernelspec": {
   "display_name": "Python 3",
   "language": "python",
   "name": "python3"
  },
  "language_info": {
   "codemirror_mode": {
    "name": "ipython",
    "version": 3
   },
   "file_extension": ".py",
   "mimetype": "text/x-python",
   "name": "python",
   "nbconvert_exporter": "python",
   "pygments_lexer": "ipython3",
   "version": "3.6.5"
  }
 },
 "nbformat": 4,
 "nbformat_minor": 2
}
