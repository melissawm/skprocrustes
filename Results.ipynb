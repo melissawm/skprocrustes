{
 "cells": [
  {
   "cell_type": "code",
   "execution_count": 1,
   "metadata": {},
   "outputs": [],
   "source": [
    "%matplotlib inline"
   ]
  },
  {
   "cell_type": "markdown",
   "metadata": {},
   "source": [
    "# Comparisons between different versions of skprocrustes solvers"
   ]
  },
  {
   "cell_type": "code",
   "execution_count": 2,
   "metadata": {},
   "outputs": [],
   "source": [
    "import skprocrustes as skp\n",
    "import time\n",
    "import matplotlib.pyplot as plt\n",
    "import numpy as np\n",
    "import pandas as pd"
   ]
  },
  {
   "cell_type": "markdown",
   "metadata": {},
   "source": [
    "## 1. Comparison between old versions of all solvers"
   ]
  },
  {
   "cell_type": "code",
   "execution_count": 3,
   "metadata": {},
   "outputs": [],
   "source": [
    "gkbsolver = skp.GKBSolver(verbose=0)\n",
    "spgsolver = skp.SPGSolver(verbose=0)\n",
    "gpisolver = skp.GPISolver(verbose=0)\n",
    "ebsolver = skp.EBSolver(verbose=0)"
   ]
  },
  {
   "cell_type": "markdown",
   "metadata": {},
   "source": [
    "## Problem 1"
   ]
  },
  {
   "cell_type": "code",
   "execution_count": 4,
   "metadata": {},
   "outputs": [],
   "source": [
    "problem1 = skp.ProcrustesProblem((5000,5000,10,10), problemnumber=1)"
   ]
  },
  {
   "cell_type": "markdown",
   "metadata": {},
   "source": [
    "### Problem 1: GKB"
   ]
  },
  {
   "cell_type": "code",
   "execution_count": 5,
   "metadata": {},
   "outputs": [
    {
     "name": "stdout",
     "output_type": "stream",
     "text": [
      "1.4648008346557617\n"
     ]
    }
   ],
   "source": [
    "t0 = time.time(); results1_gkb = gkbsolver.solve(problem1); t1_gkb = time.time()-t0; print(t1_gkb)"
   ]
  },
  {
   "cell_type": "code",
   "execution_count": 6,
   "metadata": {},
   "outputs": [
    {
     "name": "stdout",
     "output_type": "stream",
     "text": [
      "=========\n",
      " Summary:\n",
      "=========\n",
      "success : True\n",
      "status : 0\n",
      "message : Optimization terminated successfully.\n",
      "fun : 1.356796838548058e-06\n",
      "normgrad : 1.8137752238665688e-05\n",
      "nbiter : 0.09\n",
      "nfev : 0.10800000000000001\n",
      "blocksteps : 3\n"
     ]
    }
   ],
   "source": [
    "results1_gkb.show()"
   ]
  },
  {
   "cell_type": "markdown",
   "metadata": {},
   "source": [
    "### Problem 1: SPG"
   ]
  },
  {
   "cell_type": "code",
   "execution_count": 7,
   "metadata": {},
   "outputs": [
    {
     "name": "stdout",
     "output_type": "stream",
     "text": [
      "2.6056413650512695\n"
     ]
    }
   ],
   "source": [
    "t0 = time.time(); results1_spg = spgsolver.solve(problem1); t1_spg = time.time()-t0; print(t1_spg)"
   ]
  },
  {
   "cell_type": "code",
   "execution_count": 8,
   "metadata": {},
   "outputs": [
    {
     "name": "stdout",
     "output_type": "stream",
     "text": [
      "=========\n",
      " Summary:\n",
      "=========\n",
      "success : True\n",
      "status : 0\n",
      "message : Optimization terminated successfully.\n",
      "fun : 3.650803449675828e-11\n",
      "normgrad : 0.0002814298063655452\n",
      "nbiter : 6\n",
      "nfev : 7.0\n"
     ]
    }
   ],
   "source": [
    "results1_spg.show()"
   ]
  },
  {
   "cell_type": "markdown",
   "metadata": {},
   "source": [
    "### Problem 1: GPI"
   ]
  },
  {
   "cell_type": "code",
   "execution_count": 9,
   "metadata": {},
   "outputs": [
    {
     "name": "stdout",
     "output_type": "stream",
     "text": [
      "23.890547275543213\n"
     ]
    }
   ],
   "source": [
    "t0 = time.time(); results1_gpi = gpisolver.solve(problem1); t1_gpi = time.time()-t0; print(t1_gpi)"
   ]
  },
  {
   "cell_type": "code",
   "execution_count": 10,
   "metadata": {},
   "outputs": [
    {
     "name": "stdout",
     "output_type": "stream",
     "text": [
      "=========\n",
      " Summary:\n",
      "=========\n",
      "success : True\n",
      "status : 0\n",
      "message : Optimization terminated successfully.\n",
      "fun : 2.402815405055444e-07\n",
      "nbiter : 5\n",
      "nfev : 6\n"
     ]
    }
   ],
   "source": [
    "results1_gpi.show()"
   ]
  },
  {
   "cell_type": "markdown",
   "metadata": {},
   "source": [
    "### Problem 1: EB"
   ]
  },
  {
   "cell_type": "code",
   "execution_count": 11,
   "metadata": {},
   "outputs": [
    {
     "name": "stdout",
     "output_type": "stream",
     "text": [
      "720.4642467498779\n"
     ]
    }
   ],
   "source": [
    "t0 = time.time(); results1_eb = ebsolver.solve(problem1); t1_eb = time.time()-t0; print(t1_eb)"
   ]
  },
  {
   "cell_type": "code",
   "execution_count": 12,
   "metadata": {},
   "outputs": [
    {
     "name": "stdout",
     "output_type": "stream",
     "text": [
      "=========\n",
      " Summary:\n",
      "=========\n",
      "success : True\n",
      "status : 0\n",
      "message : Optimization terminated successfully.\n",
      "fun : 5.536188817884922e-07\n",
      "nbiter : 8\n",
      "nfev : 9\n"
     ]
    }
   ],
   "source": [
    "results1_eb.show()"
   ]
  },
  {
   "cell_type": "markdown",
   "metadata": {},
   "source": [
    "### Problem 1: All"
   ]
  },
  {
   "cell_type": "code",
   "execution_count": 13,
   "metadata": {},
   "outputs": [
    {
     "data": {
      "text/plain": [
       "Text(0.5,1,'Problem 1')"
      ]
     },
     "execution_count": 13,
     "metadata": {},
     "output_type": "execute_result"
    },
    {
     "data": {
      "image/png": "[encoded data removed]",
      "text/plain": [
       "<Figure size 432x288 with 1 Axes>"
      ]
     },
     "metadata": {},
     "output_type": "display_data"
    }
   ],
   "source": [
    "gkb, spg, gpi, eb = plt.bar([0,1,2,3], [t1_gkb, t1_spg, t1_gpi, t1_eb])\n",
    "gkb.set_facecolor('r')\n",
    "spg.set_facecolor('g')\n",
    "gpi.set_facecolor('b')\n",
    "eb.set_facecolor('m')\n",
    "ax = plt.gca()\n",
    "ax.set_xticks([0,1,2,3])\n",
    "ax.set_xticklabels(['GKB', 'SPG', 'GPI', 'EB'])\n",
    "#ax.set_ylim([0, 100])\n",
    "ax.set_ylabel('CPU Time')\n",
    "ax.set_title('Problem 1')"
   ]
  },
  {
   "cell_type": "code",
   "execution_count": 14,
   "metadata": {},
   "outputs": [
    {
     "data": {
      "text/html": [
       "<div>\n",
       "<style scoped>\n",
       "    .dataframe tbody tr th:only-of-type {\n",
       "        vertical-align: middle;\n",
       "    }\n",
       "\n",
       "    .dataframe tbody tr th {\n",
       "        vertical-align: top;\n",
       "    }\n",
       "\n",
       "    .dataframe thead th {\n",
       "        text-align: right;\n",
       "    }\n",
       "</style>\n",
       "<table border=\"1\" class=\"dataframe\">\n",
       "  <thead>\n",
       "    <tr style=\"text-align: right;\">\n",
       "      <th></th>\n",
       "      <th>problem1</th>\n",
       "    </tr>\n",
       "  </thead>\n",
       "  <tbody>\n",
       "    <tr>\n",
       "      <th>GKB</th>\n",
       "      <td>1.464801</td>\n",
       "    </tr>\n",
       "    <tr>\n",
       "      <th>SPG</th>\n",
       "      <td>2.605641</td>\n",
       "    </tr>\n",
       "    <tr>\n",
       "      <th>GPI</th>\n",
       "      <td>23.890547</td>\n",
       "    </tr>\n",
       "    <tr>\n",
       "      <th>EB</th>\n",
       "      <td>720.464247</td>\n",
       "    </tr>\n",
       "  </tbody>\n",
       "</table>\n",
       "</div>"
      ],
      "text/plain": [
       "       problem1\n",
       "GKB    1.464801\n",
       "SPG    2.605641\n",
       "GPI   23.890547\n",
       "EB   720.464247"
      ]
     },
     "execution_count": 14,
     "metadata": {},
     "output_type": "execute_result"
    }
   ],
   "source": [
    "results = pd.DataFrame({ 'GKB' : [t1_gkb], 'SPG' : [t1_spg], 'GPI' : [t1_gpi], 'EB' : [t1_eb]}, index=['problem1'])\n",
    "results = results.T\n",
    "results"
   ]
  },
  {
   "cell_type": "markdown",
   "metadata": {},
   "source": [
    "## Problem 2"
   ]
  },
  {
   "cell_type": "code",
   "execution_count": 15,
   "metadata": {},
   "outputs": [],
   "source": [
    "problem2 = skp.ProcrustesProblem((500,500,5,5), problemnumber=2)"
   ]
  },
  {
   "cell_type": "markdown",
   "metadata": {},
   "source": [
    "### Problem 2: GKB"
   ]
  },
  {
   "cell_type": "code",
   "execution_count": 16,
   "metadata": {},
   "outputs": [
    {
     "name": "stdout",
     "output_type": "stream",
     "text": [
      "141.4156413078308\n"
     ]
    }
   ],
   "source": [
    "t0 = time.time(); results2_gkb = gkbsolver.solve(problem2); t2_gkb = time.time()-t0; print(t2_gkb)"
   ]
  },
  {
   "cell_type": "code",
   "execution_count": 17,
   "metadata": {},
   "outputs": [
    {
     "name": "stdout",
     "output_type": "stream",
     "text": [
      "=========\n",
      " Summary:\n",
      "=========\n",
      "success : True\n",
      "status : 0\n",
      "message : Optimization terminated successfully.\n",
      "fun : 1.0331400013001382e-07\n",
      "normgrad : 0.0003805496868961612\n",
      "nbiter : 32471.200000000008\n",
      "nfev : 55044.400000005306\n",
      "blocksteps : 97\n"
     ]
    }
   ],
   "source": [
    "results2_gkb.show()"
   ]
  },
  {
   "cell_type": "markdown",
   "metadata": {},
   "source": [
    "### Problem 2: SPG"
   ]
  },
  {
   "cell_type": "code",
   "execution_count": 18,
   "metadata": {},
   "outputs": [
    {
     "name": "stdout",
     "output_type": "stream",
     "text": [
      "0.6697518825531006\n"
     ]
    }
   ],
   "source": [
    "t0 = time.time(); results2_spg = spgsolver.solve(problem2); t2_spg = time.time()-t0; print(t2_spg)"
   ]
  },
  {
   "cell_type": "code",
   "execution_count": 19,
   "metadata": {},
   "outputs": [
    {
     "name": "stdout",
     "output_type": "stream",
     "text": [
      "=========\n",
      " Summary:\n",
      "=========\n",
      "success : True\n",
      "status : 0\n",
      "message : Optimization terminated successfully.\n",
      "fun : 1.971594271897369e-08\n",
      "normgrad : 0.000968998869953896\n",
      "nbiter : 520\n",
      "nfev : 876.0\n"
     ]
    }
   ],
   "source": [
    "results2_spg.show()"
   ]
  },
  {
   "cell_type": "markdown",
   "metadata": {},
   "source": [
    "### Problem 2: GPI"
   ]
  },
  {
   "cell_type": "code",
   "execution_count": 20,
   "metadata": {},
   "outputs": [
    {
     "name": "stdout",
     "output_type": "stream",
     "text": [
      "2.761721611022949\n"
     ]
    }
   ],
   "source": [
    "t0 = time.time(); results2_gpi = gpisolver.solve(problem2); t2_gpi = time.time()-t0; print(t2_gpi)"
   ]
  },
  {
   "cell_type": "code",
   "execution_count": 21,
   "metadata": {},
   "outputs": [
    {
     "name": "stdout",
     "output_type": "stream",
     "text": [
      "=========\n",
      " Summary:\n",
      "=========\n",
      "success : True\n",
      "status : 0\n",
      "message : Optimization terminated successfully.\n",
      "fun : 0.0005648845110181697\n",
      "nbiter : 1241\n",
      "nfev : 1242\n"
     ]
    }
   ],
   "source": [
    "results2_gpi.show()"
   ]
  },
  {
   "cell_type": "markdown",
   "metadata": {},
   "source": [
    "### Problem 2: EB"
   ]
  },
  {
   "cell_type": "code",
   "execution_count": 22,
   "metadata": {},
   "outputs": [
    {
     "name": "stdout",
     "output_type": "stream",
     "text": [
      "182.22071957588196\n"
     ]
    }
   ],
   "source": [
    "t0 = time.time(); results2_eb = ebsolver.solve(problem2); t2_eb = time.time()-t0; print(t2_eb)"
   ]
  },
  {
   "cell_type": "code",
   "execution_count": 23,
   "metadata": {},
   "outputs": [
    {
     "name": "stdout",
     "output_type": "stream",
     "text": [
      "=========\n",
      " Summary:\n",
      "=========\n",
      "success : True\n",
      "status : 0\n",
      "message : Optimization terminated successfully.\n",
      "fun : 9.978668157791289e-07\n",
      "nbiter : 2739\n",
      "nfev : 2740\n"
     ]
    }
   ],
   "source": [
    "results2_eb.show()"
   ]
  },
  {
   "cell_type": "markdown",
   "metadata": {},
   "source": [
    "### Problem 2: All"
   ]
  },
  {
   "cell_type": "code",
   "execution_count": 24,
   "metadata": {},
   "outputs": [
    {
     "data": {
      "text/plain": [
       "Text(0.5,1,'Problem 2')"
      ]
     },
     "execution_count": 24,
     "metadata": {},
     "output_type": "execute_result"
    },
    {
     "data": {
      "image/png": "[encoded data removed]",
      "text/plain": [
       "<Figure size 432x288 with 1 Axes>"
      ]
     },
     "metadata": {},
     "output_type": "display_data"
    }
   ],
   "source": [
    "gkb, spg, gpi, eb = plt.bar([0,1,2,3], [t2_gkb, t2_spg, t2_gpi, t2_eb])\n",
    "gkb.set_facecolor('r')\n",
    "spg.set_facecolor('g')\n",
    "gpi.set_facecolor('b')\n",
    "eb.set_facecolor('m')\n",
    "ax = plt.gca()\n",
    "ax.set_xticks([0,1,2,3])\n",
    "ax.set_xticklabels(['GKB', 'SPG', 'GPI', 'EB'])\n",
    "#ax.set_ylim([0, 100])\n",
    "ax.set_ylabel('CPU Time')\n",
    "ax.set_title('Problem 2')"
   ]
  },
  {
   "cell_type": "code",
   "execution_count": 25,
   "metadata": {},
   "outputs": [
    {
     "data": {
      "text/html": [
       "<div>\n",
       "<style scoped>\n",
       "    .dataframe tbody tr th:only-of-type {\n",
       "        vertical-align: middle;\n",
       "    }\n",
       "\n",
       "    .dataframe tbody tr th {\n",
       "        vertical-align: top;\n",
       "    }\n",
       "\n",
       "    .dataframe thead th {\n",
       "        text-align: right;\n",
       "    }\n",
       "</style>\n",
       "<table border=\"1\" class=\"dataframe\">\n",
       "  <thead>\n",
       "    <tr style=\"text-align: right;\">\n",
       "      <th></th>\n",
       "      <th>problem1</th>\n",
       "      <th>problem2</th>\n",
       "    </tr>\n",
       "  </thead>\n",
       "  <tbody>\n",
       "    <tr>\n",
       "      <th>GKB</th>\n",
       "      <td>1.464801</td>\n",
       "      <td>141.415641</td>\n",
       "    </tr>\n",
       "    <tr>\n",
       "      <th>SPG</th>\n",
       "      <td>2.605641</td>\n",
       "      <td>0.669752</td>\n",
       "    </tr>\n",
       "    <tr>\n",
       "      <th>GPI</th>\n",
       "      <td>23.890547</td>\n",
       "      <td>2.761722</td>\n",
       "    </tr>\n",
       "    <tr>\n",
       "      <th>EB</th>\n",
       "      <td>720.464247</td>\n",
       "      <td>182.220720</td>\n",
       "    </tr>\n",
       "  </tbody>\n",
       "</table>\n",
       "</div>"
      ],
      "text/plain": [
       "       problem1    problem2\n",
       "GKB    1.464801  141.415641\n",
       "SPG    2.605641    0.669752\n",
       "GPI   23.890547    2.761722\n",
       "EB   720.464247  182.220720"
      ]
     },
     "execution_count": 25,
     "metadata": {},
     "output_type": "execute_result"
    }
   ],
   "source": [
    "results['problem2'] = pd.Series([t2_gkb, t2_spg, t2_gpi, t2_eb], index=results.index)\n",
    "results"
   ]
  },
  {
   "cell_type": "markdown",
   "metadata": {},
   "source": [
    "## Problem 3"
   ]
  },
  {
   "cell_type": "code",
   "execution_count": 34,
   "metadata": {},
   "outputs": [],
   "source": [
    "problem3 = skp.ProcrustesProblem((1000, 1000, 5, 5), problemnumber=3)"
   ]
  },
  {
   "cell_type": "markdown",
   "metadata": {},
   "source": [
    "### Problem 3: GKB"
   ]
  },
  {
   "cell_type": "code",
   "execution_count": 35,
   "metadata": {},
   "outputs": [
    {
     "name": "stdout",
     "output_type": "stream",
     "text": [
      "98.37644624710083\n"
     ]
    }
   ],
   "source": [
    "t0 = time.time(); results3_gkb = gkbsolver.solve(problem3); t3_gkb = time.time()-t0; print(t3_gkb)"
   ]
  },
  {
   "cell_type": "code",
   "execution_count": 36,
   "metadata": {},
   "outputs": [
    {
     "name": "stdout",
     "output_type": "stream",
     "text": [
      "=========\n",
      " Summary:\n",
      "=========\n",
      "success : True\n",
      "status : 0\n",
      "message : Optimization terminated successfully.\n",
      "fun : 2.2042145673987446e-06\n",
      "normgrad : 0.000948891935006996\n",
      "nbiter : 4711.175000000001\n",
      "nfev : 6383.2599999999165\n",
      "blocksteps : 200\n"
     ]
    }
   ],
   "source": [
    "results3_gkb.show()"
   ]
  },
  {
   "cell_type": "markdown",
   "metadata": {},
   "source": [
    "### Problem 3: SPG"
   ]
  },
  {
   "cell_type": "code",
   "execution_count": 37,
   "metadata": {},
   "outputs": [
    {
     "name": "stdout",
     "output_type": "stream",
     "text": [
      "0.1624917984008789\n"
     ]
    }
   ],
   "source": [
    "t0 = time.time(); results3_spg = spgsolver.solve(problem3); t3_spg = time.time()-t0; print(t3_spg)"
   ]
  },
  {
   "cell_type": "code",
   "execution_count": 38,
   "metadata": {},
   "outputs": [
    {
     "name": "stdout",
     "output_type": "stream",
     "text": [
      "=========\n",
      " Summary:\n",
      "=========\n",
      "success : True\n",
      "status : 0\n",
      "message : Optimization terminated successfully.\n",
      "fun : 4.243405518052438e-05\n",
      "normgrad : 0.0007263441639077083\n",
      "nbiter : 31\n",
      "nfev : 38.0\n"
     ]
    }
   ],
   "source": [
    "results3_spg.show()"
   ]
  },
  {
   "cell_type": "markdown",
   "metadata": {},
   "source": [
    "### Problem 3: GPI"
   ]
  },
  {
   "cell_type": "code",
   "execution_count": 39,
   "metadata": {},
   "outputs": [
    {
     "name": "stdout",
     "output_type": "stream",
     "text": [
      "0.788931131362915\n"
     ]
    }
   ],
   "source": [
    "t0 = time.time(); results3_gpi = gpisolver.solve(problem3); t3_gpi = time.time()-t0; print(t3_gpi)"
   ]
  },
  {
   "cell_type": "code",
   "execution_count": 40,
   "metadata": {},
   "outputs": [
    {
     "name": "stdout",
     "output_type": "stream",
     "text": [
      "=========\n",
      " Summary:\n",
      "=========\n",
      "success : True\n",
      "status : 0\n",
      "message : Optimization terminated successfully.\n",
      "fun : 5.401435589027177e-05\n",
      "nbiter : 74\n",
      "nfev : 75\n"
     ]
    }
   ],
   "source": [
    "results3_gpi.show()"
   ]
  },
  {
   "cell_type": "markdown",
   "metadata": {},
   "source": [
    "### Problem 3: EB"
   ]
  },
  {
   "cell_type": "code",
   "execution_count": 41,
   "metadata": {},
   "outputs": [
    {
     "name": "stdout",
     "output_type": "stream",
     "text": [
      "99.98649406433105\n"
     ]
    }
   ],
   "source": [
    "t0 = time.time(); results3_eb = ebsolver.solve(problem3); t3_eb = time.time()-t0; print(t3_eb)"
   ]
  },
  {
   "cell_type": "code",
   "execution_count": 42,
   "metadata": {},
   "outputs": [
    {
     "name": "stdout",
     "output_type": "stream",
     "text": [
      "=========\n",
      " Summary:\n",
      "=========\n",
      "success : True\n",
      "status : 0\n",
      "message : Optimization terminated successfully.\n",
      "fun : 4.242901381421668e-05\n",
      "nbiter : 166\n",
      "nfev : 167\n"
     ]
    }
   ],
   "source": [
    "results3_eb.show()"
   ]
  },
  {
   "cell_type": "markdown",
   "metadata": {},
   "source": [
    "### Problem 3: All"
   ]
  },
  {
   "cell_type": "code",
   "execution_count": 43,
   "metadata": {},
   "outputs": [
    {
     "data": {
      "text/plain": [
       "Text(0.5,1,'Problem 3')"
      ]
     },
     "execution_count": 43,
     "metadata": {},
     "output_type": "execute_result"
    },
    {
     "data": {
      "image/png": "[encoded data removed]",
      "text/plain": [
       "<Figure size 432x288 with 1 Axes>"
      ]
     },
     "metadata": {},
     "output_type": "display_data"
    }
   ],
   "source": [
    "gkb, spg, gpi, eb = plt.bar([0,1,2,3], [t3_gkb, t3_spg, t3_gpi, t3_eb])\n",
    "gkb.set_facecolor('r')\n",
    "spg.set_facecolor('g')\n",
    "gpi.set_facecolor('b')\n",
    "eb.set_facecolor('m')\n",
    "ax = plt.gca()\n",
    "ax.set_xticks([0,1,2,3])\n",
    "ax.set_xticklabels(['GKB', 'SPG', 'GPI', 'EB'])\n",
    "#ax.set_ylim([0, 100])\n",
    "ax.set_ylabel('CPU Time')\n",
    "ax.set_title('Problem 3')"
   ]
  },
  {
   "cell_type": "code",
   "execution_count": 44,
   "metadata": {},
   "outputs": [
    {
     "data": {
      "text/html": [
       "<div>\n",
       "<style scoped>\n",
       "    .dataframe tbody tr th:only-of-type {\n",
       "        vertical-align: middle;\n",
       "    }\n",
       "\n",
       "    .dataframe tbody tr th {\n",
       "        vertical-align: top;\n",
       "    }\n",
       "\n",
       "    .dataframe thead th {\n",
       "        text-align: right;\n",
       "    }\n",
       "</style>\n",
       "<table border=\"1\" class=\"dataframe\">\n",
       "  <thead>\n",
       "    <tr style=\"text-align: right;\">\n",
       "      <th></th>\n",
       "      <th>problem1</th>\n",
       "      <th>problem2</th>\n",
       "      <th>problem3</th>\n",
       "    </tr>\n",
       "  </thead>\n",
       "  <tbody>\n",
       "    <tr>\n",
       "      <th>GKB</th>\n",
       "      <td>1.464801</td>\n",
       "      <td>141.415641</td>\n",
       "      <td>98.376446</td>\n",
       "    </tr>\n",
       "    <tr>\n",
       "      <th>SPG</th>\n",
       "      <td>2.605641</td>\n",
       "      <td>0.669752</td>\n",
       "      <td>0.162492</td>\n",
       "    </tr>\n",
       "    <tr>\n",
       "      <th>GPI</th>\n",
       "      <td>23.890547</td>\n",
       "      <td>2.761722</td>\n",
       "      <td>0.788931</td>\n",
       "    </tr>\n",
       "    <tr>\n",
       "      <th>EB</th>\n",
       "      <td>720.464247</td>\n",
       "      <td>182.220720</td>\n",
       "      <td>99.986494</td>\n",
       "    </tr>\n",
       "  </tbody>\n",
       "</table>\n",
       "</div>"
      ],
      "text/plain": [
       "       problem1    problem2   problem3\n",
       "GKB    1.464801  141.415641  98.376446\n",
       "SPG    2.605641    0.669752   0.162492\n",
       "GPI   23.890547    2.761722   0.788931\n",
       "EB   720.464247  182.220720  99.986494"
      ]
     },
     "execution_count": 44,
     "metadata": {},
     "output_type": "execute_result"
    }
   ],
   "source": [
    "results['problem3'] = pd.Series([t3_gkb, t3_spg, t3_gpi, t3_eb], index=results.index)\n",
    "results"
   ]
  },
  {
   "cell_type": "markdown",
   "metadata": {},
   "source": [
    "## 2. Comparison between blobop and old residual for GKBSolver."
   ]
  },
  {
   "cell_type": "code",
   "execution_count": 45,
   "metadata": {},
   "outputs": [],
   "source": [
    "gkbsolver_blobop = skp.GKBSolver(verbose=0, bloboptest = True)"
   ]
  },
  {
   "cell_type": "markdown",
   "metadata": {},
   "source": [
    "### Problem 1"
   ]
  },
  {
   "cell_type": "code",
   "execution_count": 46,
   "metadata": {},
   "outputs": [],
   "source": [
    "t0 = time.time(); results1_gkbblobop = gkbsolver_blobop.solve(problem1); t1_blobop = time.time()-t0"
   ]
  },
  {
   "cell_type": "code",
   "execution_count": 47,
   "metadata": {},
   "outputs": [
    {
     "name": "stdout",
     "output_type": "stream",
     "text": [
      "=========\n",
      " Summary:\n",
      "=========\n",
      "success : True\n",
      "status : 0\n",
      "message : Optimization terminated successfully.\n",
      "fun : 1.362771769311597e-06\n",
      "normgrad : 4.198305440171956e-05\n",
      "nbiter : 0.07200000000000001\n",
      "nfev : 0.09000000000000002\n",
      "blocksteps : 3\n"
     ]
    }
   ],
   "source": [
    "results1_gkbblobop.show()"
   ]
  },
  {
   "cell_type": "code",
   "execution_count": 48,
   "metadata": {},
   "outputs": [
    {
     "name": "stdout",
     "output_type": "stream",
     "text": [
      "=========\n",
      " Summary:\n",
      "=========\n",
      "success : True\n",
      "status : 0\n",
      "message : Optimization terminated successfully.\n",
      "fun : 1.356796838548058e-06\n",
      "normgrad : 1.8137752238665688e-05\n",
      "nbiter : 0.09\n",
      "nfev : 0.10800000000000001\n",
      "blocksteps : 3\n"
     ]
    }
   ],
   "source": [
    "results1_gkb.show()"
   ]
  },
  {
   "cell_type": "code",
   "execution_count": 49,
   "metadata": {},
   "outputs": [
    {
     "data": {
      "text/plain": [
       "Text(0.5,1,'Problem 1')"
      ]
     },
     "execution_count": 49,
     "metadata": {},
     "output_type": "execute_result"
    },
    {
     "data": {
      "image/png": "[encoded data removed]",
      "text/plain": [
       "<Figure size 432x288 with 1 Axes>"
      ]
     },
     "metadata": {},
     "output_type": "display_data"
    }
   ],
   "source": [
    "gkb, blobop = plt.bar([0,1], [t1_gkb, t1_blobop])\n",
    "gkb.set_facecolor('r')\n",
    "blobop.set_facecolor('y')\n",
    "ax = plt.gca()\n",
    "ax.set_xticks([0,1])\n",
    "ax.set_xticklabels(['GKB', 'BLOBOP'])\n",
    "#ax.set_ylim([0, 100])\n",
    "ax.set_ylabel('CPU Time')\n",
    "ax.set_title('Problem 1')"
   ]
  },
  {
   "cell_type": "code",
   "execution_count": 50,
   "metadata": {},
   "outputs": [
    {
     "data": {
      "text/plain": [
       "Text(0.5,1,'Problem 1')"
      ]
     },
     "execution_count": 50,
     "metadata": {},
     "output_type": "execute_result"
    },
    {
     "data": {
      "image/png": "[encoded data removed]",
      "text/plain": [
       "<Figure size 432x288 with 1 Axes>"
      ]
     },
     "metadata": {},
     "output_type": "display_data"
    }
   ],
   "source": [
    "gkb, spg, gpi, eb, blobop = plt.bar([0,1,2,3,4], [t1_gkb, t1_spg, t1_gpi, t1_eb, t1_blobop])\n",
    "gkb.set_facecolor('r')\n",
    "spg.set_facecolor('g')\n",
    "gpi.set_facecolor('b')\n",
    "eb.set_facecolor('m')\n",
    "blobop.set_facecolor('y')\n",
    "ax = plt.gca()\n",
    "ax.set_xticks([0,1,2,3,4])\n",
    "ax.set_xticklabels(['GKB', 'SPG', 'GPI', 'EB', 'BLOBOP'])\n",
    "#ax.set_ylim([0, 100])\n",
    "ax.set_ylabel('CPU Time')\n",
    "ax.set_title('Problem 1')"
   ]
  },
  {
   "cell_type": "markdown",
   "metadata": {},
   "source": [
    "### Problem 2"
   ]
  },
  {
   "cell_type": "code",
   "execution_count": 51,
   "metadata": {},
   "outputs": [],
   "source": [
    "t0 = time.time(); results2_gkbblobop = gkbsolver_blobop.solve(problem2); t2_blobop = time.time()-t0"
   ]
  },
  {
   "cell_type": "code",
   "execution_count": 52,
   "metadata": {},
   "outputs": [
    {
     "name": "stdout",
     "output_type": "stream",
     "text": [
      "=========\n",
      " Summary:\n",
      "=========\n",
      "success : True\n",
      "status : 0\n",
      "message : Optimization terminated successfully.\n",
      "fun : 2.877625244684322e-08\n",
      "normgrad : 0.0004151077654649252\n",
      "nbiter : 1633.18\n",
      "nfev : 2877.0300000000007\n",
      "blocksteps : 100\n"
     ]
    }
   ],
   "source": [
    "results2_gkbblobop.show()"
   ]
  },
  {
   "cell_type": "code",
   "execution_count": 53,
   "metadata": {},
   "outputs": [
    {
     "name": "stdout",
     "output_type": "stream",
     "text": [
      "=========\n",
      " Summary:\n",
      "=========\n",
      "success : True\n",
      "status : 0\n",
      "message : Optimization terminated successfully.\n",
      "fun : 1.0331400013001382e-07\n",
      "normgrad : 0.0003805496868961612\n",
      "nbiter : 32471.200000000008\n",
      "nfev : 55044.400000005306\n",
      "blocksteps : 97\n"
     ]
    }
   ],
   "source": [
    "results2_gkb.show()"
   ]
  },
  {
   "cell_type": "code",
   "execution_count": 54,
   "metadata": {},
   "outputs": [
    {
     "data": {
      "text/plain": [
       "Text(0.5,1,'Problem 2')"
      ]
     },
     "execution_count": 54,
     "metadata": {},
     "output_type": "execute_result"
    },
    {
     "data": {
      "image/png": "[encoded data removed]",
      "text/plain": [
       "<Figure size 432x288 with 1 Axes>"
      ]
     },
     "metadata": {},
     "output_type": "display_data"
    }
   ],
   "source": [
    "gkb, blobop = plt.bar([0,1], [t2_gkb, t2_blobop])\n",
    "gkb.set_facecolor('r')\n",
    "blobop.set_facecolor('y')\n",
    "ax = plt.gca()\n",
    "ax.set_xticks([0,1])\n",
    "ax.set_xticklabels(['GKB', 'BLOBOP'])\n",
    "#ax.set_ylim([0, 100])\n",
    "ax.set_ylabel('CPU Time')\n",
    "ax.set_title('Problem 2')"
   ]
  },
  {
   "cell_type": "code",
   "execution_count": 55,
   "metadata": {},
   "outputs": [
    {
     "data": {
      "text/plain": [
       "Text(0.5,1,'Problem 2')"
      ]
     },
     "execution_count": 55,
     "metadata": {},
     "output_type": "execute_result"
    },
    {
     "data": {
      "image/png": "[encoded data removed]",
      "text/plain": [
       "<Figure size 432x288 with 1 Axes>"
      ]
     },
     "metadata": {},
     "output_type": "display_data"
    }
   ],
   "source": [
    "gkb, spg, gpi, eb, blobop = plt.bar([0,1,2,3,4], [t2_gkb, t2_spg, t2_gpi, t2_eb, t2_blobop])\n",
    "gkb.set_facecolor('r')\n",
    "spg.set_facecolor('g')\n",
    "gpi.set_facecolor('b')\n",
    "eb.set_facecolor('m')\n",
    "blobop.set_facecolor('y')\n",
    "ax = plt.gca()\n",
    "ax.set_xticks([0,1,2,3,4])\n",
    "ax.set_xticklabels(['GKB', 'SPG', 'GPI', 'EB', 'BLOBOP'])\n",
    "#ax.set_ylim([0, 100])\n",
    "ax.set_ylabel('CPU Time')\n",
    "ax.set_title('Problem 2')"
   ]
  },
  {
   "cell_type": "markdown",
   "metadata": {},
   "source": [
    "### Problem 3"
   ]
  },
  {
   "cell_type": "code",
   "execution_count": 56,
   "metadata": {},
   "outputs": [],
   "source": [
    "t0 = time.time(); results3_gkbblobop = gkbsolver_blobop.solve(problem3); t3_blobop = time.time()-t0"
   ]
  },
  {
   "cell_type": "code",
   "execution_count": 57,
   "metadata": {},
   "outputs": [
    {
     "name": "stdout",
     "output_type": "stream",
     "text": [
      "=========\n",
      " Summary:\n",
      "=========\n",
      "success : True\n",
      "status : 0\n",
      "message : Optimization terminated successfully.\n",
      "fun : 1.3388545979624172e-06\n",
      "normgrad : 0.0008379390464818944\n",
      "nbiter : 1400.8650000000002\n",
      "nfev : 1840.3849999999954\n",
      "blocksteps : 200\n"
     ]
    }
   ],
   "source": [
    "results3_gkbblobop.show()"
   ]
  },
  {
   "cell_type": "code",
   "execution_count": 58,
   "metadata": {},
   "outputs": [
    {
     "name": "stdout",
     "output_type": "stream",
     "text": [
      "=========\n",
      " Summary:\n",
      "=========\n",
      "success : True\n",
      "status : 0\n",
      "message : Optimization terminated successfully.\n",
      "fun : 2.2042145673987446e-06\n",
      "normgrad : 0.000948891935006996\n",
      "nbiter : 4711.175000000001\n",
      "nfev : 6383.2599999999165\n",
      "blocksteps : 200\n"
     ]
    }
   ],
   "source": [
    "results3_gkb.show()"
   ]
  },
  {
   "cell_type": "code",
   "execution_count": 59,
   "metadata": {},
   "outputs": [
    {
     "data": {
      "text/plain": [
       "Text(0.5,1,'Problem 3')"
      ]
     },
     "execution_count": 59,
     "metadata": {},
     "output_type": "execute_result"
    },
    {
     "data": {
      "image/png": "[encoded data removed]",
      "text/plain": [
       "<Figure size 432x288 with 1 Axes>"
      ]
     },
     "metadata": {},
     "output_type": "display_data"
    }
   ],
   "source": [
    "gkb, blobop = plt.bar([0,1], [t3_gkb, t3_blobop])\n",
    "gkb.set_facecolor('r')\n",
    "blobop.set_facecolor('y')\n",
    "ax = plt.gca()\n",
    "ax.set_xticks([0,1])\n",
    "ax.set_xticklabels(['GKB', 'BLOBOP'])\n",
    "#ax.set_ylim([0, 100])\n",
    "ax.set_ylabel('CPU Time')\n",
    "ax.set_title('Problem 3')"
   ]
  },
  {
   "cell_type": "code",
   "execution_count": 60,
   "metadata": {},
   "outputs": [
    {
     "data": {
      "text/plain": [
       "Text(0.5,1,'Problem 3')"
      ]
     },
     "execution_count": 60,
     "metadata": {},
     "output_type": "execute_result"
    },
    {
     "data": {
      "image/png": "[encoded data removed]",
      "text/plain": [
       "<Figure size 432x288 with 1 Axes>"
      ]
     },
     "metadata": {},
     "output_type": "display_data"
    }
   ],
   "source": [
    "gkb, spg, gpi, eb, blobop = plt.bar([0,1,2,3,4], [t3_gkb, t3_spg, t3_gpi, t3_eb, t3_blobop])\n",
    "gkb.set_facecolor('r')\n",
    "spg.set_facecolor('g')\n",
    "gpi.set_facecolor('b')\n",
    "eb.set_facecolor('m')\n",
    "blobop.set_facecolor('y')\n",
    "ax = plt.gca()\n",
    "ax.set_xticks([0,1,2,3,4])\n",
    "ax.set_xticklabels(['GKB', 'SPG', 'GPI', 'EB', 'BLOBOP'])\n",
    "#ax.set_ylim([0, 100])\n",
    "ax.set_ylabel('CPU Time')\n",
    "ax.set_title('Problem 3')"
   ]
  },
  {
   "cell_type": "code",
   "execution_count": 61,
   "metadata": {},
   "outputs": [
    {
     "data": {
      "text/html": [
       "<div>\n",
       "<style scoped>\n",
       "    .dataframe tbody tr th:only-of-type {\n",
       "        vertical-align: middle;\n",
       "    }\n",
       "\n",
       "    .dataframe tbody tr th {\n",
       "        vertical-align: top;\n",
       "    }\n",
       "\n",
       "    .dataframe thead th {\n",
       "        text-align: right;\n",
       "    }\n",
       "</style>\n",
       "<table border=\"1\" class=\"dataframe\">\n",
       "  <thead>\n",
       "    <tr style=\"text-align: right;\">\n",
       "      <th></th>\n",
       "      <th>problem1</th>\n",
       "      <th>problem2</th>\n",
       "      <th>problem3</th>\n",
       "    </tr>\n",
       "  </thead>\n",
       "  <tbody>\n",
       "    <tr>\n",
       "      <th>GKB</th>\n",
       "      <td>1.464801</td>\n",
       "      <td>141.415641</td>\n",
       "      <td>98.376446</td>\n",
       "    </tr>\n",
       "    <tr>\n",
       "      <th>SPG</th>\n",
       "      <td>2.605641</td>\n",
       "      <td>0.669752</td>\n",
       "      <td>0.162492</td>\n",
       "    </tr>\n",
       "    <tr>\n",
       "      <th>GPI</th>\n",
       "      <td>23.890547</td>\n",
       "      <td>2.761722</td>\n",
       "      <td>0.788931</td>\n",
       "    </tr>\n",
       "    <tr>\n",
       "      <th>EB</th>\n",
       "      <td>720.464247</td>\n",
       "      <td>182.220720</td>\n",
       "      <td>99.986494</td>\n",
       "    </tr>\n",
       "    <tr>\n",
       "      <th>BLOBOP</th>\n",
       "      <td>1.228617</td>\n",
       "      <td>7.477077</td>\n",
       "      <td>44.583440</td>\n",
       "    </tr>\n",
       "  </tbody>\n",
       "</table>\n",
       "</div>"
      ],
      "text/plain": [
       "          problem1    problem2   problem3\n",
       "GKB       1.464801  141.415641  98.376446\n",
       "SPG       2.605641    0.669752   0.162492\n",
       "GPI      23.890547    2.761722   0.788931\n",
       "EB      720.464247  182.220720  99.986494\n",
       "BLOBOP    1.228617    7.477077  44.583440"
      ]
     },
     "execution_count": 61,
     "metadata": {},
     "output_type": "execute_result"
    }
   ],
   "source": [
    "r = pd.DataFrame({'problem1' : t1_blobop, 'problem2' : t2_blobop, 'problem3' : t3_blobop}, index=['BLOBOP'])\n",
    "results = results.append(r)\n",
    "results"
   ]
  },
  {
   "cell_type": "markdown",
   "metadata": {},
   "source": [
    "## 3. Comparison between svd and polar decomposition on GKBSolver"
   ]
  },
  {
   "cell_type": "code",
   "execution_count": 62,
   "metadata": {},
   "outputs": [],
   "source": [
    "gkbpolar = skp.GKBSolver(verbose=0, polar=\"ns\")\n",
    "gkbpolarblobop = skp.GKBSolver(verbose=0, polar=\"ns\", bloboptest=True)"
   ]
  },
  {
   "cell_type": "markdown",
   "metadata": {},
   "source": [
    "### Problem 1"
   ]
  },
  {
   "cell_type": "code",
   "execution_count": 63,
   "metadata": {},
   "outputs": [],
   "source": [
    "t0 = time.time(); results1_gkbpolar = gkbpolar.solve(problem1); t1_gkbpolar = time.time()-t0"
   ]
  },
  {
   "cell_type": "code",
   "execution_count": 64,
   "metadata": {},
   "outputs": [
    {
     "name": "stdout",
     "output_type": "stream",
     "text": [
      "=========\n",
      " Summary:\n",
      "=========\n",
      "success : True\n",
      "status : 0\n",
      "message : Optimization terminated successfully.\n",
      "fun : 1.356966497640276e-06\n",
      "normgrad : 1.8140182342238757e-05\n",
      "nbiter : 0.09\n",
      "nfev : 0.10800000000000001\n",
      "blocksteps : 3\n"
     ]
    }
   ],
   "source": [
    "results1_gkbpolar.show()"
   ]
  },
  {
   "cell_type": "code",
   "execution_count": 65,
   "metadata": {},
   "outputs": [],
   "source": [
    "t0 = time.time(); results1_gkbpolarblobop = gkbpolarblobop.solve(problem1); t1_gkbpolarblobop = time.time()-t0"
   ]
  },
  {
   "cell_type": "code",
   "execution_count": 66,
   "metadata": {},
   "outputs": [
    {
     "name": "stdout",
     "output_type": "stream",
     "text": [
      "=========\n",
      " Summary:\n",
      "=========\n",
      "success : True\n",
      "status : 0\n",
      "message : Optimization terminated successfully.\n",
      "fun : 1.36597474327368e-06\n",
      "normgrad : 4.201749566593682e-05\n",
      "nbiter : 0.07200000000000001\n",
      "nfev : 0.09000000000000002\n",
      "blocksteps : 3\n"
     ]
    }
   ],
   "source": [
    "results1_gkbpolarblobop.show()"
   ]
  },
  {
   "cell_type": "code",
   "execution_count": 67,
   "metadata": {},
   "outputs": [
    {
     "data": {
      "text/plain": [
       "Text(0.5,1,'Problem 1')"
      ]
     },
     "execution_count": 67,
     "metadata": {},
     "output_type": "execute_result"
    },
    {
     "data": {
      "image/png": "[encoded data removed]",
      "text/plain": [
       "<Figure size 432x288 with 1 Axes>"
      ]
     },
     "metadata": {},
     "output_type": "display_data"
    }
   ],
   "source": [
    "gkb, polarblobop, polar = plt.bar([0,1,2], [t1_gkb, t1_gkbpolarblobop, t1_gkbpolar])\n",
    "gkb.set_facecolor('r')\n",
    "polarblobop.set_facecolor('g')\n",
    "polar.set_facecolor('b')\n",
    "ax = plt.gca()\n",
    "ax.set_xticks([0,1,2])\n",
    "ax.set_xticklabels(['GKB', 'POLAR+BLOBOP', 'POLAR'])\n",
    "#ax.set_ylim([0, 100])\n",
    "ax.set_ylabel('CPU Time')\n",
    "ax.set_title('Problem 1')"
   ]
  },
  {
   "cell_type": "markdown",
   "metadata": {},
   "source": [
    "### Problem 2"
   ]
  },
  {
   "cell_type": "code",
   "execution_count": 69,
   "metadata": {},
   "outputs": [],
   "source": [
    "t0 = time.time(); results2_gkbpolar = gkbpolar.solve(problem2); t2_gkbpolar = time.time()-t0"
   ]
  },
  {
   "cell_type": "code",
   "execution_count": 70,
   "metadata": {},
   "outputs": [
    {
     "name": "stdout",
     "output_type": "stream",
     "text": [
      "=========\n",
      " Summary:\n",
      "=========\n",
      "success : True\n",
      "status : 0\n",
      "message : Optimization terminated successfully.\n",
      "fun : 1.7028781386131266e-07\n",
      "normgrad : 0.0008778077880254848\n",
      "nbiter : 26778.710000000003\n",
      "nfev : 45200.560000008125\n",
      "blocksteps : 93\n"
     ]
    }
   ],
   "source": [
    "results2_gkbpolar.show()"
   ]
  },
  {
   "cell_type": "code",
   "execution_count": 71,
   "metadata": {},
   "outputs": [],
   "source": [
    "t0 = time.time(); results2_gkbpolarblobop = gkbpolarblobop.solve(problem2); t2_gkbpolarblobop = time.time()-t0"
   ]
  },
  {
   "cell_type": "code",
   "execution_count": 72,
   "metadata": {},
   "outputs": [
    {
     "name": "stdout",
     "output_type": "stream",
     "text": [
      "=========\n",
      " Summary:\n",
      "=========\n",
      "success : True\n",
      "status : 0\n",
      "message : Optimization terminated successfully.\n",
      "fun : 1.529732495734995e-08\n",
      "normgrad : 0.0002809142654184651\n",
      "nbiter : 1347.37\n",
      "nfev : 2354.4400000000005\n",
      "blocksteps : 100\n"
     ]
    }
   ],
   "source": [
    "results2_gkbpolarblobop.show()"
   ]
  },
  {
   "cell_type": "code",
   "execution_count": 73,
   "metadata": {},
   "outputs": [
    {
     "data": {
      "text/plain": [
       "Text(0.5,1,'Problem 2')"
      ]
     },
     "execution_count": 73,
     "metadata": {},
     "output_type": "execute_result"
    },
    {
     "data": {
      "image/png": "[encoded data removed]",
      "text/plain": [
       "<Figure size 432x288 with 1 Axes>"
      ]
     },
     "metadata": {},
     "output_type": "display_data"
    }
   ],
   "source": [
    "gkb, polarblobop, polar = plt.bar([0,1,2], [t2_gkb, t2_gkbpolarblobop, t2_gkbpolar])\n",
    "gkb.set_facecolor('r')\n",
    "polarblobop.set_facecolor('g')\n",
    "polar.set_facecolor('b')\n",
    "ax = plt.gca()\n",
    "ax.set_xticks([0,1,2])\n",
    "ax.set_xticklabels(['GKB', 'POLAR+BLOBOP', 'POLAR'])\n",
    "#ax.set_ylim([0, 100])\n",
    "ax.set_ylabel('CPU Time')\n",
    "ax.set_title('Problem 2')"
   ]
  },
  {
   "cell_type": "markdown",
   "metadata": {},
   "source": [
    "### Problem 3"
   ]
  },
  {
   "cell_type": "code",
   "execution_count": 75,
   "metadata": {},
   "outputs": [],
   "source": [
    "t0 = time.time(); results3_gkbpolar = gkbpolar.solve(problem3); t3_gkbpolar = time.time()-t0"
   ]
  },
  {
   "cell_type": "code",
   "execution_count": 76,
   "metadata": {},
   "outputs": [
    {
     "name": "stdout",
     "output_type": "stream",
     "text": [
      "=========\n",
      " Summary:\n",
      "=========\n",
      "success : True\n",
      "status : 0\n",
      "message : Optimization terminated successfully.\n",
      "fun : 2.5088717984998106e-06\n",
      "normgrad : 0.0009965032569177797\n",
      "nbiter : 5037.8899999999985\n",
      "nfev : 7084.519999999943\n",
      "blocksteps : 200\n"
     ]
    }
   ],
   "source": [
    "results3_gkbpolar.show()"
   ]
  },
  {
   "cell_type": "code",
   "execution_count": 77,
   "metadata": {},
   "outputs": [],
   "source": [
    "t0 = time.time(); results3_gkbpolarblobop = gkbpolarblobop.solve(problem3); t3_gkbpolarblobop = time.time()-t0"
   ]
  },
  {
   "cell_type": "code",
   "execution_count": 78,
   "metadata": {},
   "outputs": [
    {
     "name": "stdout",
     "output_type": "stream",
     "text": [
      "=========\n",
      " Summary:\n",
      "=========\n",
      "success : True\n",
      "status : 0\n",
      "message : Optimization terminated successfully.\n",
      "fun : 3.9186066753096486e-05\n",
      "normgrad : 0.0009593176867913745\n",
      "nbiter : 1327.83\n",
      "nfev : 1585.2550000000024\n",
      "blocksteps : 200\n"
     ]
    }
   ],
   "source": [
    "results3_gkbpolarblobop.show()"
   ]
  },
  {
   "cell_type": "code",
   "execution_count": 79,
   "metadata": {},
   "outputs": [
    {
     "data": {
      "text/plain": [
       "Text(0.5,1,'Problem 3')"
      ]
     },
     "execution_count": 79,
     "metadata": {},
     "output_type": "execute_result"
    },
    {
     "data": {
      "image/png": "[encoded data removed]",
      "text/plain": [
       "<Figure size 432x288 with 1 Axes>"
      ]
     },
     "metadata": {},
     "output_type": "display_data"
    }
   ],
   "source": [
    "gkb, polarblobop, polar = plt.bar([0,1,2], [t3_gkb, t3_gkbpolarblobop, t3_gkbpolar])\n",
    "gkb.set_facecolor('r')\n",
    "polarblobop.set_facecolor('g')\n",
    "polar.set_facecolor('b')\n",
    "ax = plt.gca()\n",
    "ax.set_xticks([0,1,2])\n",
    "ax.set_xticklabels(['GKB', 'POLAR+BLOBOP', 'POLAR'])\n",
    "#ax.set_ylim([0, 100])\n",
    "ax.set_ylabel('CPU Time')\n",
    "ax.set_title('Problem 3')"
   ]
  },
  {
   "cell_type": "code",
   "execution_count": 82,
   "metadata": {},
   "outputs": [
    {
     "data": {
      "text/html": [
       "<div>\n",
       "<style scoped>\n",
       "    .dataframe tbody tr th:only-of-type {\n",
       "        vertical-align: middle;\n",
       "    }\n",
       "\n",
       "    .dataframe tbody tr th {\n",
       "        vertical-align: top;\n",
       "    }\n",
       "\n",
       "    .dataframe thead th {\n",
       "        text-align: right;\n",
       "    }\n",
       "</style>\n",
       "<table border=\"1\" class=\"dataframe\">\n",
       "  <thead>\n",
       "    <tr style=\"text-align: right;\">\n",
       "      <th></th>\n",
       "      <th>problem1</th>\n",
       "      <th>problem2</th>\n",
       "      <th>problem3</th>\n",
       "    </tr>\n",
       "  </thead>\n",
       "  <tbody>\n",
       "    <tr>\n",
       "      <th>GKB</th>\n",
       "      <td>1.464801</td>\n",
       "      <td>141.415641</td>\n",
       "      <td>98.376446</td>\n",
       "    </tr>\n",
       "    <tr>\n",
       "      <th>SPG</th>\n",
       "      <td>2.605641</td>\n",
       "      <td>0.669752</td>\n",
       "      <td>0.162492</td>\n",
       "    </tr>\n",
       "    <tr>\n",
       "      <th>GPI</th>\n",
       "      <td>23.890547</td>\n",
       "      <td>2.761722</td>\n",
       "      <td>0.788931</td>\n",
       "    </tr>\n",
       "    <tr>\n",
       "      <th>EB</th>\n",
       "      <td>720.464247</td>\n",
       "      <td>182.220720</td>\n",
       "      <td>99.986494</td>\n",
       "    </tr>\n",
       "    <tr>\n",
       "      <th>BLOBOP</th>\n",
       "      <td>1.228617</td>\n",
       "      <td>7.477077</td>\n",
       "      <td>44.583440</td>\n",
       "    </tr>\n",
       "    <tr>\n",
       "      <th>GKB+POLAR</th>\n",
       "      <td>1.220175</td>\n",
       "      <td>121.742762</td>\n",
       "      <td>107.766008</td>\n",
       "    </tr>\n",
       "    <tr>\n",
       "      <th>POLAR+BLOBOP</th>\n",
       "      <td>1.254919</td>\n",
       "      <td>7.202415</td>\n",
       "      <td>49.948579</td>\n",
       "    </tr>\n",
       "  </tbody>\n",
       "</table>\n",
       "</div>"
      ],
      "text/plain": [
       "                problem1    problem2    problem3\n",
       "GKB             1.464801  141.415641   98.376446\n",
       "SPG             2.605641    0.669752    0.162492\n",
       "GPI            23.890547    2.761722    0.788931\n",
       "EB            720.464247  182.220720   99.986494\n",
       "BLOBOP          1.228617    7.477077   44.583440\n",
       "GKB+POLAR       1.220175  121.742762  107.766008\n",
       "POLAR+BLOBOP    1.254919    7.202415   49.948579"
      ]
     },
     "execution_count": 82,
     "metadata": {},
     "output_type": "execute_result"
    }
   ],
   "source": [
    "r = pd.DataFrame({'problem1' : t1_gkbpolar, 'problem2' : t2_gkbpolar, 'problem3' : t3_gkbpolar}, index=['POLAR'])\n",
    "results = results.append(r)\n",
    "r = pd.DataFrame({'problem1' : t1_gkbpolarblobop, 'problem2' : t2_gkbpolarblobop, 'problem3' : t3_gkbpolarblobop}, index=['POLAR+BLOBOP'])\n",
    "results = results.append(r)\n",
    "results"
   ]
  },
  {
   "cell_type": "markdown",
   "metadata": {},
   "source": [
    "## 4. Comparison between all versions"
   ]
  },
  {
   "cell_type": "markdown",
   "metadata": {},
   "source": [
    "### Problem 1"
   ]
  },
  {
   "cell_type": "code",
   "execution_count": 83,
   "metadata": {},
   "outputs": [
    {
     "data": {
      "text/plain": [
       "Text(0.5,1,'Problem 1')"
      ]
     },
     "execution_count": 83,
     "metadata": {},
     "output_type": "execute_result"
    },
    {
     "data": {
      "image/png": "[encoded data removed]",
      "text/plain": [
       "<Figure size 432x288 with 1 Axes>"
      ]
     },
     "metadata": {},
     "output_type": "display_data"
    }
   ],
   "source": [
    "gkb, blobop, polarblobop, polar, spg, gpi, eb = plt.bar([0, 1, 2, 3, 4, 5, 6], [t1_gkb, t1_blobop, t1_gkbpolarblobop, t1_gkbpolar, t1_spg, t1_gpi, t1_eb])\n",
    "gkb.set_facecolor('r')\n",
    "blobop.set_facecolor('k')\n",
    "polarblobop.set_facecolor('g')\n",
    "polar.set_facecolor('b')\n",
    "spg.set_facecolor('y')\n",
    "gpi.set_facecolor('m')\n",
    "eb.set_facecolor('c')\n",
    "ax = plt.gca()\n",
    "ax.set_xticks([0,1,2,3,4,5,6])\n",
    "ax.set_xticklabels(['GKB', 'BLOBOP', 'POLAR+BLOBOP', 'POLAR', 'SPG', 'GPI', 'EB'])\n",
    "#ax.set_ylim([0, 100])\n",
    "ax.set_ylabel('CPU Time')\n",
    "ax.set_title('Problem 1')"
   ]
  },
  {
   "cell_type": "markdown",
   "metadata": {},
   "source": [
    "### Problem 2"
   ]
  },
  {
   "cell_type": "code",
   "execution_count": 84,
   "metadata": {},
   "outputs": [
    {
     "data": {
      "text/plain": [
       "Text(0.5,1,'Problem 2')"
      ]
     },
     "execution_count": 84,
     "metadata": {},
     "output_type": "execute_result"
    },
    {
     "data": {
      "image/png": "[encoded data removed]",
      "text/plain": [
       "<Figure size 432x288 with 1 Axes>"
      ]
     },
     "metadata": {},
     "output_type": "display_data"
    }
   ],
   "source": [
    "gkb, blobop, polarblobop, polar, spg, gpi, eb = plt.bar([0, 1, 2, 3, 4, 5, 6], [t2_gkb, t2_blobop, t2_gkbpolarblobop, t2_gkbpolar, t2_spg, t2_gpi, t2_eb])\n",
    "gkb.set_facecolor('r')\n",
    "blobop.set_facecolor('k')\n",
    "polarblobop.set_facecolor('g')\n",
    "polar.set_facecolor('b')\n",
    "spg.set_facecolor('y')\n",
    "gpi.set_facecolor('m')\n",
    "eb.set_facecolor('c')\n",
    "ax = plt.gca()\n",
    "ax.set_xticks([0,1,2,3,4,5,6])\n",
    "ax.set_xticklabels(['GKB', 'BLOBOP', 'POLAR+BLOBOP', 'POLAR', 'SPG', 'GPI', 'EB'])\n",
    "#ax.set_ylim([0, 100])\n",
    "ax.set_ylabel('CPU Time')\n",
    "ax.set_title('Problem 2')"
   ]
  },
  {
   "cell_type": "markdown",
   "metadata": {},
   "source": [
    "### Problem 3"
   ]
  },
  {
   "cell_type": "code",
   "execution_count": 85,
   "metadata": {},
   "outputs": [
    {
     "data": {
      "text/plain": [
       "Text(0.5,1,'Problem 3')"
      ]
     },
     "execution_count": 85,
     "metadata": {},
     "output_type": "execute_result"
    },
    {
     "data": {
      "image/png": "[encoded data removed]",
      "text/plain": [
       "<Figure size 432x288 with 1 Axes>"
      ]
     },
     "metadata": {},
     "output_type": "display_data"
    }
   ],
   "source": [
    "gkb, blobop, polarblobop, polar, spg, gpi, eb = plt.bar([0, 1, 2, 3, 4, 5, 6], [t3_gkb, t3_blobop, t3_gkbpolarblobop, t3_gkbpolar, t3_spg, t3_gpi, t3_eb])\n",
    "gkb.set_facecolor('r')\n",
    "blobop.set_facecolor('k')\n",
    "polarblobop.set_facecolor('g')\n",
    "polar.set_facecolor('b')\n",
    "spg.set_facecolor('y')\n",
    "gpi.set_facecolor('m')\n",
    "eb.set_facecolor('c')\n",
    "ax = plt.gca()\n",
    "ax.set_xticks([0,1,2,3,4,5,6])\n",
    "ax.set_xticklabels(['GKB', 'BLOBOP', 'POLAR+BLOBOP', 'POLAR', 'SPG', 'GPI', 'EB'])\n",
    "#ax.set_ylim([0, 100])\n",
    "ax.set_ylabel('CPU Time')\n",
    "ax.set_title('Problem 3')"
   ]
  },
  {
   "cell_type": "code",
   "execution_count": null,
   "metadata": {},
   "outputs": [],
   "source": []
  }
 ],
 "metadata": {
  "kernelspec": {
   "display_name": "Python 3",
   "language": "python",
   "name": "python3"
  },
  "language_info": {
   "codemirror_mode": {
    "name": "ipython",
    "version": 3
   },
   "file_extension": ".py",
   "mimetype": "text/x-python",
   "name": "python",
   "nbconvert_exporter": "python",
   "pygments_lexer": "ipython3",
   "version": "3.6.6"
  }
 },
 "nbformat": 4,
 "nbformat_minor": 2
}
