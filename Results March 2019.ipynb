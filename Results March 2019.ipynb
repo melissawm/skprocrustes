{
 "cells": [
  {
   "cell_type": "code",
   "execution_count": 2,
   "metadata": {},
   "outputs": [],
   "source": [
    "%matplotlib inline"
   ]
  },
  {
   "cell_type": "markdown",
   "metadata": {},
   "source": [
    "# Comparisons between different versions of skprocrustes solvers"
   ]
  },
  {
   "cell_type": "code",
   "execution_count": 3,
   "metadata": {},
   "outputs": [],
   "source": [
    "import skprocrustes as skp\n",
    "import time\n",
    "import matplotlib.pyplot as plt\n",
    "import numpy as np\n",
    "import pandas as pd"
   ]
  },
  {
   "cell_type": "markdown",
   "metadata": {},
   "source": [
    "## 1. Comparison between all solvers"
   ]
  },
  {
   "cell_type": "code",
   "execution_count": 4,
   "metadata": {},
   "outputs": [],
   "source": [
    "gkbsolver = skp.GKBSolver(verbose=0)\n",
    "spgsolver = skp.SPGSolver(verbose=0)\n",
    "gpisolver = skp.GPISolver(verbose=0)\n",
    "ebsolver = skp.EBSolver(verbose=0)\n",
    "gbbsolver = skp.GBBSolver(verbose=0)\n",
    "gkbgbbsolver = skp.GKBSolver(verbose=0, inner_solver='gbb')\n",
    "gkbblobopsolver = skp.GKBSolver(verbose=0, bloboptest = True)"
   ]
  },
  {
   "cell_type": "markdown",
   "metadata": {},
   "source": [
    "## Problem 1"
   ]
  },
  {
   "cell_type": "code",
   "execution_count": 5,
   "metadata": {},
   "outputs": [],
   "source": [
    "problem1 = skp.ProcrustesProblem((500,500,10,10), problemnumber=1)"
   ]
  },
  {
   "cell_type": "markdown",
   "metadata": {},
   "source": [
    "### Problem 1: All"
   ]
  },
  {
   "cell_type": "code",
   "execution_count": 7,
   "metadata": {},
   "outputs": [],
   "source": [
    "t0 = time.time(); results1_gkb = gkbsolver.solve(problem1); t1_gkb = time.time()-t0\n",
    "t0 = time.time(); results1_spg = spgsolver.solve(problem1); t1_spg = time.time()-t0\n",
    "t0 = time.time(); results1_gpi = gpisolver.solve(problem1); t1_gpi = time.time()-t0\n",
    "t0 = time.time(); results1_eb = ebsolver.solve(problem1); t1_eb = time.time()-t0\n",
    "t0 = time.time(); results1_gbb = gbbsolver.solve(problem1); t1_gbb = time.time()-t0\n",
    "t0 = time.time(); results1_gkbgbb = gkbgbbsolver.solve(problem1); t1_gkbgbb = time.time()-t0\n",
    "t0 = time.time(); results1_gkbblobop = gkbblobopsolver.solve(problem1); t1_gkbblobop = time.time()-t0"
   ]
  },
  {
   "cell_type": "markdown",
   "metadata": {},
   "source": [
    "### Problem 1: Graph"
   ]
  },
  {
   "cell_type": "code",
   "execution_count": 12,
   "metadata": {},
   "outputs": [
    {
     "data": {
      "text/plain": [
       "Text(0.5, 1.0, 'Problem 1')"
      ]
     },
     "execution_count": 12,
     "metadata": {},
     "output_type": "execute_result"
    },
    {
     "data": {
      "image/png": "[encoded data removed]",
      "text/plain": [
       "<Figure size 432x288 with 1 Axes>"
      ]
     },
     "metadata": {
      "needs_background": "light"
     },
     "output_type": "display_data"
    }
   ],
   "source": [
    "gkb, spg, gpi, eb, gbb, gkbgbb, gkbblobop = plt.bar([0,1,2,3,4,5,6], [t1_gkb, t1_spg, t1_gpi, t1_eb, t1_gbb, t1_gkbgbb, t1_gkbblobop])\n",
    "gkb.set_facecolor('r')\n",
    "spg.set_facecolor('g')\n",
    "gpi.set_facecolor('b')\n",
    "eb.set_facecolor('m')\n",
    "gbb.set_facecolor('y')\n",
    "gkbgbb.set_facecolor('k')\n",
    "gkbblobop.set_facecolor('c')\n",
    "ax = plt.gca()\n",
    "ax.set_xticks([0,1,2,3,4,5,6])\n",
    "ax.set_xticklabels(['GKB', 'SPG', 'GPI', 'EB', 'GBB', 'GKB+GBB', 'BLOBOP'])\n",
    "#ax.set_ylim([0, 100])\n",
    "ax.set_ylabel('CPU Time')\n",
    "ax.set_title('Problem 1')"
   ]
  },
  {
   "cell_type": "code",
   "execution_count": 13,
   "metadata": {},
   "outputs": [
    {
     "data": {
      "text/plain": [
       "Text(0.5, 1.0, 'Problem 1')"
      ]
     },
     "execution_count": 13,
     "metadata": {},
     "output_type": "execute_result"
    },
    {
     "data": {
      "image/png": "[encoded data removed]",
      "text/plain": [
       "<Figure size 432x288 with 1 Axes>"
      ]
     },
     "metadata": {
      "needs_background": "light"
     },
     "output_type": "display_data"
    }
   ],
   "source": [
    "gkb, spg, gpi, gbb, gkbgbb, gkbblobop = plt.bar([0,1,2,3,4,5], [t1_gkb, t1_spg, t1_gpi, t1_gbb, t1_gkbgbb, t1_gkbblobop])\n",
    "gkb.set_facecolor('r')\n",
    "spg.set_facecolor('g')\n",
    "gpi.set_facecolor('b')\n",
    "gbb.set_facecolor('y')\n",
    "gkbgbb.set_facecolor('k')\n",
    "gkbblobop.set_facecolor('c')\n",
    "ax = plt.gca()\n",
    "ax.set_xticks([0,1,2,3,4,5])\n",
    "ax.set_xticklabels(['GKB', 'SPG', 'GPI', 'GBB', 'GKB+GBB', 'BLOBOP'])\n",
    "#ax.set_ylim([0, 100])\n",
    "ax.set_ylabel('CPU Time')\n",
    "ax.set_title('Problem 1')"
   ]
  },
  {
   "cell_type": "code",
   "execution_count": 14,
   "metadata": {},
   "outputs": [
    {
     "data": {
      "text/html": [
       "<div>\n",
       "<style scoped>\n",
       "    .dataframe tbody tr th:only-of-type {\n",
       "        vertical-align: middle;\n",
       "    }\n",
       "\n",
       "    .dataframe tbody tr th {\n",
       "        vertical-align: top;\n",
       "    }\n",
       "\n",
       "    .dataframe thead th {\n",
       "        text-align: right;\n",
       "    }\n",
       "</style>\n",
       "<table border=\"1\" class=\"dataframe\">\n",
       "  <thead>\n",
       "    <tr style=\"text-align: right;\">\n",
       "      <th></th>\n",
       "      <th>problem1</th>\n",
       "    </tr>\n",
       "  </thead>\n",
       "  <tbody>\n",
       "    <tr>\n",
       "      <th>GKB</th>\n",
       "      <td>0.111337</td>\n",
       "    </tr>\n",
       "    <tr>\n",
       "      <th>SPG</th>\n",
       "      <td>0.012094</td>\n",
       "    </tr>\n",
       "    <tr>\n",
       "      <th>GPI</th>\n",
       "      <td>0.043562</td>\n",
       "    </tr>\n",
       "    <tr>\n",
       "      <th>EB</th>\n",
       "      <td>0.968036</td>\n",
       "    </tr>\n",
       "    <tr>\n",
       "      <th>GBB</th>\n",
       "      <td>0.023611</td>\n",
       "    </tr>\n",
       "    <tr>\n",
       "      <th>GKB+GBB</th>\n",
       "      <td>0.076657</td>\n",
       "    </tr>\n",
       "    <tr>\n",
       "      <th>GKB+BLOBOP</th>\n",
       "      <td>0.065112</td>\n",
       "    </tr>\n",
       "  </tbody>\n",
       "</table>\n",
       "</div>"
      ],
      "text/plain": [
       "            problem1\n",
       "GKB         0.111337\n",
       "SPG         0.012094\n",
       "GPI         0.043562\n",
       "EB          0.968036\n",
       "GBB         0.023611\n",
       "GKB+GBB     0.076657\n",
       "GKB+BLOBOP  0.065112"
      ]
     },
     "execution_count": 14,
     "metadata": {},
     "output_type": "execute_result"
    }
   ],
   "source": [
    "results = pd.DataFrame({'GKB' : [t1_gkb], \n",
    "                        'SPG' : [t1_spg], \n",
    "                        'GPI' : [t1_gpi], \n",
    "                        'EB' : [t1_eb], \n",
    "                        'GBB' : [t1_gbb], \n",
    "                        'GKB+GBB' : [t1_gkbgbb],\n",
    "                        'GKB+BLOBOP': [t1_gkbblobop]}, index=['problem1'])\n",
    "results = results.T\n",
    "results"
   ]
  },
  {
   "cell_type": "markdown",
   "metadata": {},
   "source": [
    "## Problem 2"
   ]
  },
  {
   "cell_type": "code",
   "execution_count": 15,
   "metadata": {},
   "outputs": [],
   "source": [
    "problem2 = skp.ProcrustesProblem((100,100,5,5), problemnumber=2)"
   ]
  },
  {
   "cell_type": "markdown",
   "metadata": {},
   "source": [
    "### Problem 2: All"
   ]
  },
  {
   "cell_type": "code",
   "execution_count": 16,
   "metadata": {},
   "outputs": [],
   "source": [
    "t0 = time.time(); results2_gkb = gkbsolver.solve(problem2); t2_gkb = time.time()-t0\n",
    "t0 = time.time(); results2_spg = spgsolver.solve(problem2); t2_spg = time.time()-t0\n",
    "t0 = time.time(); results2_gpi = gpisolver.solve(problem2); t2_gpi = time.time()-t0\n",
    "t0 = time.time(); results2_eb = ebsolver.solve(problem2); t2_eb = time.time()-t0\n",
    "t0 = time.time(); results2_gbb = gbbsolver.solve(problem2); t2_gbb = time.time()-t0\n",
    "t0 = time.time(); results2_gkbgbb = gkbgbbsolver.solve(problem2); t2_gkbgbb = time.time()-t0\n",
    "t0 = time.time(); results2_gkbblobop = gkbblobopsolver.solve(problem2); t2_gkbblobop = time.time()-t0"
   ]
  },
  {
   "cell_type": "code",
   "execution_count": 17,
   "metadata": {},
   "outputs": [
    {
     "data": {
      "text/plain": [
       "Text(0.5, 1.0, 'Problem 2')"
      ]
     },
     "execution_count": 17,
     "metadata": {},
     "output_type": "execute_result"
    },
    {
     "data": {
      "image/png": "[encoded data removed]",
      "text/plain": [
       "<Figure size 432x288 with 1 Axes>"
      ]
     },
     "metadata": {
      "needs_background": "light"
     },
     "output_type": "display_data"
    }
   ],
   "source": [
    "gkb, spg, gpi, eb, gbb = plt.bar([0,1,2,3,4], [t2_gkb, t2_spg, t2_gpi, t2_eb, t2_gbb])\n",
    "gkb.set_facecolor('r')\n",
    "spg.set_facecolor('g')\n",
    "gpi.set_facecolor('b')\n",
    "eb.set_facecolor('m')\n",
    "gbb.set_facecolor('y')\n",
    "#gkbgbb.set_facecolor('k')\n",
    "ax = plt.gca()\n",
    "ax.set_xticks([0,1,2,3,4])\n",
    "ax.set_xticklabels(['GKB', 'SPG', 'GPI', 'EB', 'GBB'])\n",
    "#ax.set_ylim([0, 100])\n",
    "ax.set_ylabel('CPU Time')\n",
    "ax.set_title('Problem 2')\n",
    "\n",
    "gkb, spg, gpi, eb, gbb, gkbgbb, gkbblobop = plt.bar([0,1,2,3,4,5,6], [t2_gkb, t2_spg, t2_gpi, t2_eb, t2_gbb, t2_gkbgbb, t2_gkbblobop])\n",
    "gkb.set_facecolor('r')\n",
    "spg.set_facecolor('g')\n",
    "gpi.set_facecolor('b')\n",
    "eb.set_facecolor('m')\n",
    "gbb.set_facecolor('y')\n",
    "gkbgbb.set_facecolor('k')\n",
    "gkbblobop.set_facecolor('c')\n",
    "ax = plt.gca()\n",
    "ax.set_xticks([0,1,2,3,4,5,6])\n",
    "ax.set_xticklabels(['GKB', 'SPG', 'GPI', 'EB', 'GBB', 'GKB+GBB', 'BLOBOP'])\n",
    "#ax.set_ylim([0, 100])\n",
    "ax.set_ylabel('CPU Time')\n",
    "ax.set_title('Problem 2')"
   ]
  },
  {
   "cell_type": "code",
   "execution_count": 18,
   "metadata": {},
   "outputs": [
    {
     "data": {
      "text/html": [
       "<div>\n",
       "<style scoped>\n",
       "    .dataframe tbody tr th:only-of-type {\n",
       "        vertical-align: middle;\n",
       "    }\n",
       "\n",
       "    .dataframe tbody tr th {\n",
       "        vertical-align: top;\n",
       "    }\n",
       "\n",
       "    .dataframe thead th {\n",
       "        text-align: right;\n",
       "    }\n",
       "</style>\n",
       "<table border=\"1\" class=\"dataframe\">\n",
       "  <thead>\n",
       "    <tr style=\"text-align: right;\">\n",
       "      <th></th>\n",
       "      <th>problem1</th>\n",
       "      <th>problem2</th>\n",
       "    </tr>\n",
       "  </thead>\n",
       "  <tbody>\n",
       "    <tr>\n",
       "      <th>GKB</th>\n",
       "      <td>0.111337</td>\n",
       "      <td>1.732536</td>\n",
       "    </tr>\n",
       "    <tr>\n",
       "      <th>SPG</th>\n",
       "      <td>0.012094</td>\n",
       "      <td>0.394459</td>\n",
       "    </tr>\n",
       "    <tr>\n",
       "      <th>GPI</th>\n",
       "      <td>0.043562</td>\n",
       "      <td>0.355606</td>\n",
       "    </tr>\n",
       "    <tr>\n",
       "      <th>EB</th>\n",
       "      <td>0.968036</td>\n",
       "      <td>12.921742</td>\n",
       "    </tr>\n",
       "    <tr>\n",
       "      <th>GBB</th>\n",
       "      <td>0.023611</td>\n",
       "      <td>4.137173</td>\n",
       "    </tr>\n",
       "    <tr>\n",
       "      <th>GKB+GBB</th>\n",
       "      <td>0.076657</td>\n",
       "      <td>6.378740</td>\n",
       "    </tr>\n",
       "    <tr>\n",
       "      <th>GKB+BLOBOP</th>\n",
       "      <td>0.065112</td>\n",
       "      <td>1.633111</td>\n",
       "    </tr>\n",
       "  </tbody>\n",
       "</table>\n",
       "</div>"
      ],
      "text/plain": [
       "            problem1   problem2\n",
       "GKB         0.111337   1.732536\n",
       "SPG         0.012094   0.394459\n",
       "GPI         0.043562   0.355606\n",
       "EB          0.968036  12.921742\n",
       "GBB         0.023611   4.137173\n",
       "GKB+GBB     0.076657   6.378740\n",
       "GKB+BLOBOP  0.065112   1.633111"
      ]
     },
     "execution_count": 18,
     "metadata": {},
     "output_type": "execute_result"
    }
   ],
   "source": [
    "results['problem2'] = pd.Series([t2_gkb, t2_spg, t2_gpi, t2_eb, t2_gbb, t2_gkbgbb, t2_gkbblobop], index=results.index)\n",
    "results"
   ]
  },
  {
   "cell_type": "markdown",
   "metadata": {},
   "source": [
    "## Problem 3"
   ]
  },
  {
   "cell_type": "code",
   "execution_count": 23,
   "metadata": {},
   "outputs": [],
   "source": [
    "problem3 = skp.ProcrustesProblem((500, 500, 5, 5), problemnumber=3)"
   ]
  },
  {
   "cell_type": "markdown",
   "metadata": {},
   "source": [
    "### Problem 3: GKB"
   ]
  },
  {
   "cell_type": "code",
   "execution_count": 24,
   "metadata": {},
   "outputs": [
    {
     "name": "stdout",
     "output_type": "stream",
     "text": [
      "=========\n",
      " Summary:\n",
      "=========\n",
      "success : True\n",
      "status : 0\n",
      "message : No further progress can be made.\n",
      "fun : 5.131667711540999e-06\n",
      "normcrit : 0.01751056895271069\n",
      "error : 0.03580606405564048\n",
      "cpu : 5.796164035797119\n",
      "nbiter : 1692.62\n",
      "nfev : 1950.970000000002\n",
      "blocksteps : 100\n"
     ]
    }
   ],
   "source": [
    "t0 = time.time(); results3_gkb = gkbsolver.solve(problem3); t3_gkb = time.time()-t0\n",
    "results3_gkb.show()"
   ]
  },
  {
   "cell_type": "markdown",
   "metadata": {},
   "source": [
    "### Problem 3: SPG"
   ]
  },
  {
   "cell_type": "code",
   "execution_count": 25,
   "metadata": {},
   "outputs": [
    {
     "name": "stdout",
     "output_type": "stream",
     "text": [
      "0.04762768745422363\n"
     ]
    }
   ],
   "source": [
    "t0 = time.time(); results3_spg = spgsolver.solve(problem3); t3_spg = time.time()-t0; print(t3_spg)"
   ]
  },
  {
   "cell_type": "code",
   "execution_count": 26,
   "metadata": {},
   "outputs": [
    {
     "name": "stdout",
     "output_type": "stream",
     "text": [
      "=========\n",
      " Summary:\n",
      "=========\n",
      "success : True\n",
      "status : 0\n",
      "message : Optimization terminated successfully.\n",
      "fun : 5.132780151942836e-06\n",
      "normcrit : 0.0003815177725226038\n",
      "error : 0.035804441667312524\n",
      "cpu : 0.047443389892578125\n",
      "nbiter : 34\n",
      "nfev : 35.0\n"
     ]
    }
   ],
   "source": [
    "results3_spg.show()"
   ]
  },
  {
   "cell_type": "markdown",
   "metadata": {},
   "source": [
    "### Problem 3: GPI"
   ]
  },
  {
   "cell_type": "code",
   "execution_count": 27,
   "metadata": {},
   "outputs": [
    {
     "name": "stdout",
     "output_type": "stream",
     "text": [
      "0.3965134620666504\n"
     ]
    }
   ],
   "source": [
    "t0 = time.time(); results3_gpi = gpisolver.solve(problem3); t3_gpi = time.time()-t0; print(t3_gpi)"
   ]
  },
  {
   "cell_type": "code",
   "execution_count": 28,
   "metadata": {},
   "outputs": [
    {
     "name": "stdout",
     "output_type": "stream",
     "text": [
      "=========\n",
      " Summary:\n",
      "=========\n",
      "success : True\n",
      "status : 0\n",
      "message : Optimization terminated successfully.\n",
      "fun : 1.551334913511932e-05\n",
      "normcrit : 9.974001297310054e-07\n",
      "error : 0.03564933204935722\n",
      "cpu : 0.39629149436950684\n",
      "nbiter : 86\n",
      "nfev : 87\n"
     ]
    }
   ],
   "source": [
    "results3_gpi.show()"
   ]
  },
  {
   "cell_type": "markdown",
   "metadata": {},
   "source": [
    "### Problem 3: EB"
   ]
  },
  {
   "cell_type": "code",
   "execution_count": 29,
   "metadata": {},
   "outputs": [
    {
     "name": "stdout",
     "output_type": "stream",
     "text": [
      "18.9253568649292\n"
     ]
    }
   ],
   "source": [
    "t0 = time.time(); results3_eb = ebsolver.solve(problem3); t3_eb = time.time()-t0; print(t3_eb)"
   ]
  },
  {
   "cell_type": "code",
   "execution_count": 30,
   "metadata": {},
   "outputs": [
    {
     "name": "stdout",
     "output_type": "stream",
     "text": [
      "=========\n",
      " Summary:\n",
      "=========\n",
      "success : True\n",
      "status : 0\n",
      "message : Optimization terminated successfully.\n",
      "fun : 5.131185645047931e-06\n",
      "error : 0.03580563112422961\n",
      "cpu : 18.92514681816101\n",
      "nbiter : 220\n",
      "nfev : 221\n"
     ]
    }
   ],
   "source": [
    "results3_eb.show()"
   ]
  },
  {
   "cell_type": "code",
   "execution_count": 31,
   "metadata": {},
   "outputs": [
    {
     "name": "stdout",
     "output_type": "stream",
     "text": [
      "5.637048721313477\n"
     ]
    }
   ],
   "source": [
    "t0 = time.time(); results3_gbb = gbbsolver.solve(problem3); t3_gbb = time.time()-t0; print(t3_gbb)"
   ]
  },
  {
   "cell_type": "code",
   "execution_count": 32,
   "metadata": {},
   "outputs": [
    {
     "name": "stdout",
     "output_type": "stream",
     "text": [
      "=========\n",
      " Summary:\n",
      "=========\n",
      "success : True\n",
      "status : 0\n",
      "message : Optimization terminated successfully.\n",
      "fun : 6.132167199890109e-06\n",
      "error : 0.055769753038724015\n",
      "cpu : 5.6368420124053955\n",
      "nbiter : 3020\n",
      "nfev : 10834\n"
     ]
    }
   ],
   "source": [
    "results3_gbb.show()"
   ]
  },
  {
   "cell_type": "markdown",
   "metadata": {},
   "source": [
    "### Problem 3: All"
   ]
  },
  {
   "cell_type": "code",
   "execution_count": 33,
   "metadata": {},
   "outputs": [
    {
     "data": {
      "text/plain": [
       "Text(0.5, 1.0, 'Problem 3')"
      ]
     },
     "execution_count": 33,
     "metadata": {},
     "output_type": "execute_result"
    },
    {
     "data": {
      "image/png": "[encoded data removed]",
      "text/plain": [
       "<Figure size 432x288 with 1 Axes>"
      ]
     },
     "metadata": {
      "needs_background": "light"
     },
     "output_type": "display_data"
    }
   ],
   "source": [
    "gkb, spg, gpi, eb, gbb = plt.bar([0,1,2,3,4], [t3_gkb, t3_spg, t3_gpi, t3_eb, t3_gbb])\n",
    "gkb.set_facecolor('r')\n",
    "spg.set_facecolor('g')\n",
    "gpi.set_facecolor('b')\n",
    "eb.set_facecolor('m')\n",
    "gbb.set_facecolor('y')\n",
    "ax = plt.gca()\n",
    "ax.set_xticks([0,1,2,3,4])\n",
    "ax.set_xticklabels(['GKB', 'SPG', 'GPI', 'EB', 'GBB'])\n",
    "#ax.set_ylim([0, 100])\n",
    "ax.set_ylabel('CPU Time')\n",
    "ax.set_title('Problem 3')"
   ]
  },
  {
   "cell_type": "code",
   "execution_count": 34,
   "metadata": {},
   "outputs": [
    {
     "data": {
      "text/html": [
       "<div>\n",
       "<style scoped>\n",
       "    .dataframe tbody tr th:only-of-type {\n",
       "        vertical-align: middle;\n",
       "    }\n",
       "\n",
       "    .dataframe tbody tr th {\n",
       "        vertical-align: top;\n",
       "    }\n",
       "\n",
       "    .dataframe thead th {\n",
       "        text-align: right;\n",
       "    }\n",
       "</style>\n",
       "<table border=\"1\" class=\"dataframe\">\n",
       "  <thead>\n",
       "    <tr style=\"text-align: right;\">\n",
       "      <th></th>\n",
       "      <th>problem1</th>\n",
       "      <th>problem2</th>\n",
       "      <th>problem3</th>\n",
       "    </tr>\n",
       "  </thead>\n",
       "  <tbody>\n",
       "    <tr>\n",
       "      <th>GKB</th>\n",
       "      <td>0.069958</td>\n",
       "      <td>4.170301</td>\n",
       "      <td>5.796366</td>\n",
       "    </tr>\n",
       "    <tr>\n",
       "      <th>SPG</th>\n",
       "      <td>0.030239</td>\n",
       "      <td>1.733156</td>\n",
       "      <td>0.047628</td>\n",
       "    </tr>\n",
       "    <tr>\n",
       "      <th>GPI</th>\n",
       "      <td>0.057133</td>\n",
       "      <td>0.681897</td>\n",
       "      <td>0.396513</td>\n",
       "    </tr>\n",
       "    <tr>\n",
       "      <th>EB</th>\n",
       "      <td>0.905570</td>\n",
       "      <td>13.386660</td>\n",
       "      <td>18.925357</td>\n",
       "    </tr>\n",
       "    <tr>\n",
       "      <th>GBB</th>\n",
       "      <td>0.059863</td>\n",
       "      <td>5.319885</td>\n",
       "      <td>5.637049</td>\n",
       "    </tr>\n",
       "    <tr>\n",
       "      <th>GKB+GBB</th>\n",
       "      <td>0.071246</td>\n",
       "      <td>0.000000</td>\n",
       "      <td>0.000000</td>\n",
       "    </tr>\n",
       "  </tbody>\n",
       "</table>\n",
       "</div>"
      ],
      "text/plain": [
       "         problem1   problem2   problem3\n",
       "GKB      0.069958   4.170301   5.796366\n",
       "SPG      0.030239   1.733156   0.047628\n",
       "GPI      0.057133   0.681897   0.396513\n",
       "EB       0.905570  13.386660  18.925357\n",
       "GBB      0.059863   5.319885   5.637049\n",
       "GKB+GBB  0.071246   0.000000   0.000000"
      ]
     },
     "execution_count": 34,
     "metadata": {},
     "output_type": "execute_result"
    }
   ],
   "source": [
    "results['problem3'] = pd.Series([t3_gkb, t3_spg, t3_gpi, t3_eb, t3_gbb, 0], index=results.index)\n",
    "results"
   ]
  },
  {
   "cell_type": "markdown",
   "metadata": {},
   "source": [
    "## 2. Comparison between blobop and old residual for GKBSolver."
   ]
  },
  {
   "cell_type": "code",
   "execution_count": 35,
   "metadata": {},
   "outputs": [],
   "source": [
    "gkbsolver_blobop = skp.GKBSolver(verbose=0, bloboptest = True)"
   ]
  },
  {
   "cell_type": "markdown",
   "metadata": {},
   "source": [
    "### Problem 1"
   ]
  },
  {
   "cell_type": "code",
   "execution_count": 36,
   "metadata": {},
   "outputs": [],
   "source": [
    "t0 = time.time(); results1_gkbblobop = gkbsolver_blobop.solve(problem1); t1_blobop = time.time()-t0"
   ]
  },
  {
   "cell_type": "code",
   "execution_count": 37,
   "metadata": {},
   "outputs": [
    {
     "name": "stdout",
     "output_type": "stream",
     "text": [
      "=========\n",
      " Summary:\n",
      "=========\n",
      "success : True\n",
      "status : 0\n",
      "message : Optimization terminated successfully.\n",
      "fun : 2.608082314765709e-10\n",
      "normcrit : 0.0001910561299554899\n",
      "error : 1.1002118566061557e-06\n",
      "cpu : 0.06883001327514648\n",
      "nbiter : 1.1600000000000001\n",
      "nfev : 2.9600000000000013\n",
      "blocksteps : 5\n"
     ]
    }
   ],
   "source": [
    "results1_gkbblobop.show()"
   ]
  },
  {
   "cell_type": "code",
   "execution_count": 38,
   "metadata": {},
   "outputs": [
    {
     "name": "stdout",
     "output_type": "stream",
     "text": [
      "=========\n",
      " Summary:\n",
      "=========\n",
      "success : True\n",
      "status : 0\n",
      "message : Optimization terminated successfully.\n",
      "fun : 2.578793622029034e-10\n",
      "normcrit : 0.00018998120729215638\n",
      "error : 1.1233282908519718e-06\n",
      "cpu : 0.06975817680358887\n",
      "nbiter : 1.1600000000000001\n",
      "nfev : 2.9600000000000013\n",
      "blocksteps : 5\n"
     ]
    }
   ],
   "source": [
    "results1_gkb.show()"
   ]
  },
  {
   "cell_type": "code",
   "execution_count": 39,
   "metadata": {},
   "outputs": [
    {
     "data": {
      "text/plain": [
       "Text(0.5, 1.0, 'Problem 1')"
      ]
     },
     "execution_count": 39,
     "metadata": {},
     "output_type": "execute_result"
    },
    {
     "data": {
      "image/png": "[encoded data removed]",
      "text/plain": [
       "<Figure size 432x288 with 1 Axes>"
      ]
     },
     "metadata": {
      "needs_background": "light"
     },
     "output_type": "display_data"
    }
   ],
   "source": [
    "gkb, blobop = plt.bar([0,1], [t1_gkb, t1_blobop])\n",
    "gkb.set_facecolor('r')\n",
    "blobop.set_facecolor('y')\n",
    "ax = plt.gca()\n",
    "ax.set_xticks([0,1])\n",
    "ax.set_xticklabels(['GKB', 'BLOBOP'])\n",
    "#ax.set_ylim([0, 100])\n",
    "ax.set_ylabel('CPU Time')\n",
    "ax.set_title('Problem 1')"
   ]
  },
  {
   "cell_type": "code",
   "execution_count": 40,
   "metadata": {},
   "outputs": [
    {
     "data": {
      "text/plain": [
       "Text(0.5, 1.0, 'Problem 1')"
      ]
     },
     "execution_count": 40,
     "metadata": {},
     "output_type": "execute_result"
    },
    {
     "data": {
      "image/png": "[encoded data removed]",
      "text/plain": [
       "<Figure size 432x288 with 1 Axes>"
      ]
     },
     "metadata": {
      "needs_background": "light"
     },
     "output_type": "display_data"
    }
   ],
   "source": [
    "gkb, spg, gpi, eb, gbb, blobop = plt.bar([0,1,2,3,4,5], [t1_gkb, t1_spg, t1_gpi, t1_eb, t1_gbb, t1_blobop])\n",
    "gkb.set_facecolor('r')\n",
    "spg.set_facecolor('g')\n",
    "gpi.set_facecolor('b')\n",
    "eb.set_facecolor('m')\n",
    "gbb.set_facecolor('y')\n",
    "blobop.set_facecolor('k')\n",
    "ax = plt.gca()\n",
    "ax.set_xticks([0,1,2,3,4,5])\n",
    "ax.set_xticklabels(['GKB', 'SPG', 'GPI', 'EB', 'GBB', 'BLOBOP'])\n",
    "#ax.set_ylim([0, 100])\n",
    "ax.set_ylabel('CPU Time')\n",
    "ax.set_title('Problem 1')"
   ]
  },
  {
   "cell_type": "code",
   "execution_count": 41,
   "metadata": {},
   "outputs": [
    {
     "data": {
      "text/plain": [
       "Text(0.5, 1.0, 'Problem 1')"
      ]
     },
     "execution_count": 41,
     "metadata": {},
     "output_type": "execute_result"
    },
    {
     "data": {
      "image/png": "[encoded data removed]",
      "text/plain": [
       "<Figure size 432x288 with 1 Axes>"
      ]
     },
     "metadata": {
      "needs_background": "light"
     },
     "output_type": "display_data"
    }
   ],
   "source": [
    "gkb, spg, gpi, gbb, blobop = plt.bar([0,1,2,3,4], [t1_gkb, t1_spg, t1_gpi, t1_gbb, t1_blobop])\n",
    "gkb.set_facecolor('r')\n",
    "spg.set_facecolor('g')\n",
    "gpi.set_facecolor('b')\n",
    "#eb.set_facecolor('m')\n",
    "gbb.set_facecolor('y')\n",
    "blobop.set_facecolor('k')\n",
    "ax = plt.gca()\n",
    "ax.set_xticks([0,1,2,3,4])\n",
    "ax.set_xticklabels(['GKB', 'SPG', 'GPI', 'GBB', 'BLOBOP'])\n",
    "#ax.set_ylim([0, 100])\n",
    "ax.set_ylabel('CPU Time')\n",
    "ax.set_title('Problem 1')"
   ]
  },
  {
   "cell_type": "markdown",
   "metadata": {},
   "source": [
    "### Problem 2"
   ]
  },
  {
   "cell_type": "code",
   "execution_count": 42,
   "metadata": {},
   "outputs": [],
   "source": [
    "t0 = time.time(); results2_gkbblobop = gkbsolver_blobop.solve(problem2); t2_blobop = time.time()-t0"
   ]
  },
  {
   "cell_type": "code",
   "execution_count": 43,
   "metadata": {},
   "outputs": [
    {
     "name": "stdout",
     "output_type": "stream",
     "text": [
      "=========\n",
      " Summary:\n",
      "=========\n",
      "success : True\n",
      "status : 0\n",
      "message : No further progress can be made.\n",
      "fun : 2.925400923378415e-07\n",
      "normcrit : 0.022602674945456508\n",
      "error : 0.002254040065187797\n",
      "cpu : 2.9044535160064697\n",
      "nbiter : 4153.35\n",
      "nfev : 5753.200000000004\n",
      "blocksteps : 20\n"
     ]
    }
   ],
   "source": [
    "results2_gkbblobop.show()"
   ]
  },
  {
   "cell_type": "code",
   "execution_count": 44,
   "metadata": {},
   "outputs": [
    {
     "name": "stdout",
     "output_type": "stream",
     "text": [
      "=========\n",
      " Summary:\n",
      "=========\n",
      "success : True\n",
      "status : 0\n",
      "message : No further progress can be made.\n",
      "fun : 2.1445174383833714e-07\n",
      "normcrit : 0.018800891291422688\n",
      "error : 0.0019578669028790818\n",
      "cpu : 4.170146703720093\n",
      "nbiter : 5451.1\n",
      "nfev : 7778.850000000015\n",
      "blocksteps : 20\n"
     ]
    }
   ],
   "source": [
    "results2_gkb.show()"
   ]
  },
  {
   "cell_type": "code",
   "execution_count": 45,
   "metadata": {},
   "outputs": [
    {
     "data": {
      "text/plain": [
       "Text(0.5, 1.0, 'Problem 2')"
      ]
     },
     "execution_count": 45,
     "metadata": {},
     "output_type": "execute_result"
    },
    {
     "data": {
      "image/png": "[encoded data removed]",
      "text/plain": [
       "<Figure size 432x288 with 1 Axes>"
      ]
     },
     "metadata": {
      "needs_background": "light"
     },
     "output_type": "display_data"
    }
   ],
   "source": [
    "gkb, blobop = plt.bar([0,1], [t2_gkb, t2_blobop])\n",
    "gkb.set_facecolor('r')\n",
    "blobop.set_facecolor('y')\n",
    "ax = plt.gca()\n",
    "ax.set_xticks([0,1])\n",
    "ax.set_xticklabels(['GKB', 'BLOBOP'])\n",
    "#ax.set_ylim([0, 100])\n",
    "ax.set_ylabel('CPU Time')\n",
    "ax.set_title('Problem 2')"
   ]
  },
  {
   "cell_type": "code",
   "execution_count": 46,
   "metadata": {},
   "outputs": [
    {
     "data": {
      "text/plain": [
       "Text(0.5, 1.0, 'Problem 2')"
      ]
     },
     "execution_count": 46,
     "metadata": {},
     "output_type": "execute_result"
    },
    {
     "data": {
      "image/png": "[encoded data removed]",
      "text/plain": [
       "<Figure size 432x288 with 1 Axes>"
      ]
     },
     "metadata": {
      "needs_background": "light"
     },
     "output_type": "display_data"
    }
   ],
   "source": [
    "gkb, spg, gpi, eb, blobop = plt.bar([0,1,2,3,4], [t2_gkb, t2_spg, t2_gpi, t2_eb, t2_blobop])\n",
    "gkb.set_facecolor('r')\n",
    "spg.set_facecolor('g')\n",
    "gpi.set_facecolor('b')\n",
    "eb.set_facecolor('m')\n",
    "blobop.set_facecolor('y')\n",
    "ax = plt.gca()\n",
    "ax.set_xticks([0,1,2,3,4])\n",
    "ax.set_xticklabels(['GKB', 'SPG', 'GPI', 'EB', 'BLOBOP'])\n",
    "#ax.set_ylim([0, 100])\n",
    "ax.set_ylabel('CPU Time')\n",
    "ax.set_title('Problem 2')"
   ]
  },
  {
   "cell_type": "markdown",
   "metadata": {},
   "source": [
    "### Problem 3"
   ]
  },
  {
   "cell_type": "code",
   "execution_count": 47,
   "metadata": {},
   "outputs": [],
   "source": [
    "t0 = time.time(); results3_gkbblobop = gkbsolver_blobop.solve(problem3); t3_blobop = time.time()-t0"
   ]
  },
  {
   "cell_type": "code",
   "execution_count": 48,
   "metadata": {},
   "outputs": [
    {
     "name": "stdout",
     "output_type": "stream",
     "text": [
      "=========\n",
      " Summary:\n",
      "=========\n",
      "success : True\n",
      "status : 0\n",
      "message : No further progress can be made.\n",
      "fun : 5.131667711526123e-06\n",
      "normcrit : 0.017510568952651948\n",
      "error : 0.03580606405564164\n",
      "cpu : 5.470430135726929\n",
      "nbiter : 1692.83\n",
      "nfev : 1951.180000000002\n",
      "blocksteps : 100\n"
     ]
    }
   ],
   "source": [
    "results3_gkbblobop.show()"
   ]
  },
  {
   "cell_type": "code",
   "execution_count": 49,
   "metadata": {},
   "outputs": [
    {
     "name": "stdout",
     "output_type": "stream",
     "text": [
      "=========\n",
      " Summary:\n",
      "=========\n",
      "success : True\n",
      "status : 0\n",
      "message : No further progress can be made.\n",
      "fun : 5.131667711540999e-06\n",
      "normcrit : 0.01751056895271069\n",
      "error : 0.03580606405564048\n",
      "cpu : 5.796164035797119\n",
      "nbiter : 1692.62\n",
      "nfev : 1950.970000000002\n",
      "blocksteps : 100\n"
     ]
    }
   ],
   "source": [
    "results3_gkb.show()"
   ]
  },
  {
   "cell_type": "code",
   "execution_count": 50,
   "metadata": {},
   "outputs": [
    {
     "data": {
      "text/plain": [
       "Text(0.5, 1.0, 'Problem 3')"
      ]
     },
     "execution_count": 50,
     "metadata": {},
     "output_type": "execute_result"
    },
    {
     "data": {
      "image/png": "[encoded data removed]",
      "text/plain": [
       "<Figure size 432x288 with 1 Axes>"
      ]
     },
     "metadata": {
      "needs_background": "light"
     },
     "output_type": "display_data"
    }
   ],
   "source": [
    "gkb, blobop = plt.bar([0,1], [t3_gkb, t3_blobop])\n",
    "gkb.set_facecolor('r')\n",
    "blobop.set_facecolor('y')\n",
    "ax = plt.gca()\n",
    "ax.set_xticks([0,1])\n",
    "ax.set_xticklabels(['GKB', 'BLOBOP'])\n",
    "#ax.set_ylim([0, 100])\n",
    "ax.set_ylabel('CPU Time')\n",
    "ax.set_title('Problem 3')"
   ]
  },
  {
   "cell_type": "code",
   "execution_count": 51,
   "metadata": {},
   "outputs": [
    {
     "data": {
      "text/plain": [
       "Text(0.5, 1.0, 'Problem 3')"
      ]
     },
     "execution_count": 51,
     "metadata": {},
     "output_type": "execute_result"
    },
    {
     "data": {
      "image/png": "[encoded data removed]",
      "text/plain": [
       "<Figure size 432x288 with 1 Axes>"
      ]
     },
     "metadata": {
      "needs_background": "light"
     },
     "output_type": "display_data"
    }
   ],
   "source": [
    "gkb, spg, gpi, eb, blobop = plt.bar([0,1,2,3,4], [t3_gkb, t3_spg, t3_gpi, t3_eb, t3_blobop])\n",
    "gkb.set_facecolor('r')\n",
    "spg.set_facecolor('g')\n",
    "gpi.set_facecolor('b')\n",
    "eb.set_facecolor('m')\n",
    "blobop.set_facecolor('y')\n",
    "ax = plt.gca()\n",
    "ax.set_xticks([0,1,2,3,4])\n",
    "ax.set_xticklabels(['GKB', 'SPG', 'GPI', 'EB', 'BLOBOP'])\n",
    "#ax.set_ylim([0, 100])\n",
    "ax.set_ylabel('CPU Time')\n",
    "ax.set_title('Problem 3')"
   ]
  },
  {
   "cell_type": "code",
   "execution_count": 52,
   "metadata": {},
   "outputs": [
    {
     "data": {
      "text/html": [
       "<div>\n",
       "<style scoped>\n",
       "    .dataframe tbody tr th:only-of-type {\n",
       "        vertical-align: middle;\n",
       "    }\n",
       "\n",
       "    .dataframe tbody tr th {\n",
       "        vertical-align: top;\n",
       "    }\n",
       "\n",
       "    .dataframe thead th {\n",
       "        text-align: right;\n",
       "    }\n",
       "</style>\n",
       "<table border=\"1\" class=\"dataframe\">\n",
       "  <thead>\n",
       "    <tr style=\"text-align: right;\">\n",
       "      <th></th>\n",
       "      <th>problem1</th>\n",
       "      <th>problem2</th>\n",
       "      <th>problem3</th>\n",
       "    </tr>\n",
       "  </thead>\n",
       "  <tbody>\n",
       "    <tr>\n",
       "      <th>GKB</th>\n",
       "      <td>0.069958</td>\n",
       "      <td>4.170301</td>\n",
       "      <td>5.796366</td>\n",
       "    </tr>\n",
       "    <tr>\n",
       "      <th>SPG</th>\n",
       "      <td>0.030239</td>\n",
       "      <td>1.733156</td>\n",
       "      <td>0.047628</td>\n",
       "    </tr>\n",
       "    <tr>\n",
       "      <th>GPI</th>\n",
       "      <td>0.057133</td>\n",
       "      <td>0.681897</td>\n",
       "      <td>0.396513</td>\n",
       "    </tr>\n",
       "    <tr>\n",
       "      <th>EB</th>\n",
       "      <td>0.905570</td>\n",
       "      <td>13.386660</td>\n",
       "      <td>18.925357</td>\n",
       "    </tr>\n",
       "    <tr>\n",
       "      <th>GBB</th>\n",
       "      <td>0.059863</td>\n",
       "      <td>5.319885</td>\n",
       "      <td>5.637049</td>\n",
       "    </tr>\n",
       "    <tr>\n",
       "      <th>GKB+GBB</th>\n",
       "      <td>0.071246</td>\n",
       "      <td>0.000000</td>\n",
       "      <td>0.000000</td>\n",
       "    </tr>\n",
       "    <tr>\n",
       "      <th>BLOBOP</th>\n",
       "      <td>0.069043</td>\n",
       "      <td>2.904620</td>\n",
       "      <td>5.470636</td>\n",
       "    </tr>\n",
       "  </tbody>\n",
       "</table>\n",
       "</div>"
      ],
      "text/plain": [
       "         problem1   problem2   problem3\n",
       "GKB      0.069958   4.170301   5.796366\n",
       "SPG      0.030239   1.733156   0.047628\n",
       "GPI      0.057133   0.681897   0.396513\n",
       "EB       0.905570  13.386660  18.925357\n",
       "GBB      0.059863   5.319885   5.637049\n",
       "GKB+GBB  0.071246   0.000000   0.000000\n",
       "BLOBOP   0.069043   2.904620   5.470636"
      ]
     },
     "execution_count": 52,
     "metadata": {},
     "output_type": "execute_result"
    }
   ],
   "source": [
    "r = pd.DataFrame({'problem1' : t1_blobop, 'problem2' : t2_blobop, 'problem3' : t3_blobop}, index=['BLOBOP'])\n",
    "results = results.append(r)\n",
    "results"
   ]
  },
  {
   "cell_type": "markdown",
   "metadata": {},
   "source": [
    "## 3. Comparison between svd and polar decomposition on GKBSolver"
   ]
  },
  {
   "cell_type": "code",
   "execution_count": 53,
   "metadata": {},
   "outputs": [],
   "source": [
    "gkbpolar = skp.GKBSolver(verbose=0, polar=\"ns\")\n",
    "gkbpolarblobop = skp.GKBSolver(verbose=0, polar=\"ns\", bloboptest=True)"
   ]
  },
  {
   "cell_type": "markdown",
   "metadata": {},
   "source": [
    "### Problem 1"
   ]
  },
  {
   "cell_type": "code",
   "execution_count": 54,
   "metadata": {},
   "outputs": [],
   "source": [
    "t0 = time.time(); results1_gkbpolar = gkbpolar.solve(problem1); t1_gkbpolar = time.time()-t0"
   ]
  },
  {
   "cell_type": "code",
   "execution_count": 55,
   "metadata": {},
   "outputs": [
    {
     "name": "stdout",
     "output_type": "stream",
     "text": [
      "=========\n",
      " Summary:\n",
      "=========\n",
      "success : True\n",
      "status : 0\n",
      "message : Optimization terminated successfully.\n",
      "fun : 2.497367832737372e-10\n",
      "normcrit : 0.00018753618499880168\n",
      "error : 1.165856725168374e-06\n",
      "cpu : 0.09996747970581055\n",
      "nbiter : 1.1600000000000001\n",
      "nfev : 2.9600000000000013\n",
      "blocksteps : 5\n"
     ]
    }
   ],
   "source": [
    "results1_gkbpolar.show()"
   ]
  },
  {
   "cell_type": "code",
   "execution_count": 56,
   "metadata": {},
   "outputs": [],
   "source": [
    "t0 = time.time(); results1_gkbpolarblobop = gkbpolarblobop.solve(problem1); t1_gkbpolarblobop = time.time()-t0"
   ]
  },
  {
   "cell_type": "code",
   "execution_count": 57,
   "metadata": {},
   "outputs": [
    {
     "name": "stdout",
     "output_type": "stream",
     "text": [
      "=========\n",
      " Summary:\n",
      "=========\n",
      "success : True\n",
      "status : 0\n",
      "message : Optimization terminated successfully.\n",
      "fun : 2.5171422703106026e-10\n",
      "normcrit : 0.00018855805904438035\n",
      "error : 1.1367281198579056e-06\n",
      "cpu : 0.06825661659240723\n",
      "nbiter : 1.1600000000000001\n",
      "nfev : 2.9600000000000013\n",
      "blocksteps : 5\n"
     ]
    }
   ],
   "source": [
    "results1_gkbpolarblobop.show()"
   ]
  },
  {
   "cell_type": "code",
   "execution_count": 58,
   "metadata": {},
   "outputs": [
    {
     "data": {
      "text/plain": [
       "Text(0.5, 1.0, 'Problem 1')"
      ]
     },
     "execution_count": 58,
     "metadata": {},
     "output_type": "execute_result"
    },
    {
     "data": {
      "image/png": "[encoded data removed]",
      "text/plain": [
       "<Figure size 432x288 with 1 Axes>"
      ]
     },
     "metadata": {
      "needs_background": "light"
     },
     "output_type": "display_data"
    }
   ],
   "source": [
    "gkb, polarblobop, polar = plt.bar([0,1,2], [t1_gkb, t1_gkbpolarblobop, t1_gkbpolar])\n",
    "gkb.set_facecolor('r')\n",
    "polarblobop.set_facecolor('g')\n",
    "polar.set_facecolor('b')\n",
    "ax = plt.gca()\n",
    "ax.set_xticks([0,1,2])\n",
    "ax.set_xticklabels(['GKB', 'POLAR+BLOBOP', 'POLAR'])\n",
    "#ax.set_ylim([0, 100])\n",
    "ax.set_ylabel('CPU Time')\n",
    "ax.set_title('Problem 1')"
   ]
  },
  {
   "cell_type": "markdown",
   "metadata": {},
   "source": [
    "### Problem 2"
   ]
  },
  {
   "cell_type": "code",
   "execution_count": 59,
   "metadata": {},
   "outputs": [],
   "source": [
    "t0 = time.time(); results2_gkbpolar = gkbpolar.solve(problem2); t2_gkbpolar = time.time()-t0"
   ]
  },
  {
   "cell_type": "code",
   "execution_count": 60,
   "metadata": {},
   "outputs": [
    {
     "name": "stdout",
     "output_type": "stream",
     "text": [
      "=========\n",
      " Summary:\n",
      "=========\n",
      "success : True\n",
      "status : 0\n",
      "message : No further progress can be made.\n",
      "fun : 4.820270216084519e-08\n",
      "normcrit : 0.007214606235196402\n",
      "error : 0.0011032592914477493\n",
      "cpu : 3.780449867248535\n",
      "nbiter : 3708.5\n",
      "nfev : 5103.600000000003\n",
      "blocksteps : 20\n"
     ]
    }
   ],
   "source": [
    "results2_gkbpolar.show()"
   ]
  },
  {
   "cell_type": "code",
   "execution_count": 61,
   "metadata": {},
   "outputs": [],
   "source": [
    "t0 = time.time(); results2_gkbpolarblobop = gkbpolarblobop.solve(problem2); t2_gkbpolarblobop = time.time()-t0"
   ]
  },
  {
   "cell_type": "code",
   "execution_count": 62,
   "metadata": {},
   "outputs": [
    {
     "name": "stdout",
     "output_type": "stream",
     "text": [
      "=========\n",
      " Summary:\n",
      "=========\n",
      "success : True\n",
      "status : 0\n",
      "message : No further progress can be made.\n",
      "fun : 2.311772683931615e-07\n",
      "normcrit : 0.019707582380820297\n",
      "error : 0.0020224139550518733\n",
      "cpu : 5.417364835739136\n",
      "nbiter : 5371.1\n",
      "nfev : 7593.850000000003\n",
      "blocksteps : 20\n"
     ]
    }
   ],
   "source": [
    "results2_gkbpolarblobop.show()"
   ]
  },
  {
   "cell_type": "code",
   "execution_count": 63,
   "metadata": {},
   "outputs": [
    {
     "data": {
      "text/plain": [
       "Text(0.5, 1.0, 'Problem 2')"
      ]
     },
     "execution_count": 63,
     "metadata": {},
     "output_type": "execute_result"
    },
    {
     "data": {
      "image/png": "[encoded data removed]",
      "text/plain": [
       "<Figure size 432x288 with 1 Axes>"
      ]
     },
     "metadata": {
      "needs_background": "light"
     },
     "output_type": "display_data"
    }
   ],
   "source": [
    "gkb, polarblobop, polar = plt.bar([0,1,2], [t2_gkb, t2_gkbpolarblobop, t2_gkbpolar])\n",
    "gkb.set_facecolor('r')\n",
    "polarblobop.set_facecolor('g')\n",
    "polar.set_facecolor('b')\n",
    "ax = plt.gca()\n",
    "ax.set_xticks([0,1,2])\n",
    "ax.set_xticklabels(['GKB', 'POLAR+BLOBOP', 'POLAR'])\n",
    "#ax.set_ylim([0, 100])\n",
    "ax.set_ylabel('CPU Time')\n",
    "ax.set_title('Problem 2')"
   ]
  },
  {
   "cell_type": "markdown",
   "metadata": {},
   "source": [
    "### Problem 3"
   ]
  },
  {
   "cell_type": "code",
   "execution_count": 64,
   "metadata": {},
   "outputs": [],
   "source": [
    "t0 = time.time(); results3_gkbpolar = gkbpolar.solve(problem3); t3_gkbpolar = time.time()-t0"
   ]
  },
  {
   "cell_type": "code",
   "execution_count": 65,
   "metadata": {},
   "outputs": [
    {
     "name": "stdout",
     "output_type": "stream",
     "text": [
      "=========\n",
      " Summary:\n",
      "=========\n",
      "success : True\n",
      "status : 0\n",
      "message : No further progress can be made.\n",
      "fun : 5.1316677115433824e-06\n",
      "normcrit : 0.01751056895291697\n",
      "error : 0.035806064055638895\n",
      "cpu : 7.435473918914795\n",
      "nbiter : 1692.86\n",
      "nfev : 1951.210000000002\n",
      "blocksteps : 100\n"
     ]
    }
   ],
   "source": [
    "results3_gkbpolar.show()"
   ]
  },
  {
   "cell_type": "code",
   "execution_count": 66,
   "metadata": {},
   "outputs": [],
   "source": [
    "t0 = time.time(); results3_gkbpolarblobop = gkbpolarblobop.solve(problem3); t3_gkbpolarblobop = time.time()-t0"
   ]
  },
  {
   "cell_type": "code",
   "execution_count": 67,
   "metadata": {},
   "outputs": [
    {
     "name": "stdout",
     "output_type": "stream",
     "text": [
      "=========\n",
      " Summary:\n",
      "=========\n",
      "success : True\n",
      "status : 0\n",
      "message : No further progress can be made.\n",
      "fun : 5.131667711539431e-06\n",
      "normcrit : 0.017510568952969263\n",
      "error : 0.03580606405564402\n",
      "cpu : 6.525835275650024\n",
      "nbiter : 1692.77\n",
      "nfev : 1951.1200000000022\n",
      "blocksteps : 100\n"
     ]
    }
   ],
   "source": [
    "results3_gkbpolarblobop.show()"
   ]
  },
  {
   "cell_type": "code",
   "execution_count": 68,
   "metadata": {},
   "outputs": [
    {
     "data": {
      "text/plain": [
       "Text(0.5, 1.0, 'Problem 3')"
      ]
     },
     "execution_count": 68,
     "metadata": {},
     "output_type": "execute_result"
    },
    {
     "data": {
      "image/png": "[encoded data removed]",
      "text/plain": [
       "<Figure size 432x288 with 1 Axes>"
      ]
     },
     "metadata": {
      "needs_background": "light"
     },
     "output_type": "display_data"
    }
   ],
   "source": [
    "gkb, polarblobop, polar = plt.bar([0,1,2], [t3_gkb, t3_gkbpolarblobop, t3_gkbpolar])\n",
    "gkb.set_facecolor('r')\n",
    "polarblobop.set_facecolor('g')\n",
    "polar.set_facecolor('b')\n",
    "ax = plt.gca()\n",
    "ax.set_xticks([0,1,2])\n",
    "ax.set_xticklabels(['GKB', 'POLAR+BLOBOP', 'POLAR'])\n",
    "#ax.set_ylim([0, 100])\n",
    "ax.set_ylabel('CPU Time')\n",
    "ax.set_title('Problem 3')"
   ]
  },
  {
   "cell_type": "code",
   "execution_count": 69,
   "metadata": {},
   "outputs": [
    {
     "data": {
      "text/html": [
       "<div>\n",
       "<style scoped>\n",
       "    .dataframe tbody tr th:only-of-type {\n",
       "        vertical-align: middle;\n",
       "    }\n",
       "\n",
       "    .dataframe tbody tr th {\n",
       "        vertical-align: top;\n",
       "    }\n",
       "\n",
       "    .dataframe thead th {\n",
       "        text-align: right;\n",
       "    }\n",
       "</style>\n",
       "<table border=\"1\" class=\"dataframe\">\n",
       "  <thead>\n",
       "    <tr style=\"text-align: right;\">\n",
       "      <th></th>\n",
       "      <th>problem1</th>\n",
       "      <th>problem2</th>\n",
       "      <th>problem3</th>\n",
       "    </tr>\n",
       "  </thead>\n",
       "  <tbody>\n",
       "    <tr>\n",
       "      <th>GKB</th>\n",
       "      <td>0.069958</td>\n",
       "      <td>4.170301</td>\n",
       "      <td>5.796366</td>\n",
       "    </tr>\n",
       "    <tr>\n",
       "      <th>SPG</th>\n",
       "      <td>0.030239</td>\n",
       "      <td>1.733156</td>\n",
       "      <td>0.047628</td>\n",
       "    </tr>\n",
       "    <tr>\n",
       "      <th>GPI</th>\n",
       "      <td>0.057133</td>\n",
       "      <td>0.681897</td>\n",
       "      <td>0.396513</td>\n",
       "    </tr>\n",
       "    <tr>\n",
       "      <th>EB</th>\n",
       "      <td>0.905570</td>\n",
       "      <td>13.386660</td>\n",
       "      <td>18.925357</td>\n",
       "    </tr>\n",
       "    <tr>\n",
       "      <th>GBB</th>\n",
       "      <td>0.059863</td>\n",
       "      <td>5.319885</td>\n",
       "      <td>5.637049</td>\n",
       "    </tr>\n",
       "    <tr>\n",
       "      <th>GKB+GBB</th>\n",
       "      <td>0.071246</td>\n",
       "      <td>0.000000</td>\n",
       "      <td>0.000000</td>\n",
       "    </tr>\n",
       "    <tr>\n",
       "      <th>BLOBOP</th>\n",
       "      <td>0.069043</td>\n",
       "      <td>2.904620</td>\n",
       "      <td>5.470636</td>\n",
       "    </tr>\n",
       "    <tr>\n",
       "      <th>POLAR</th>\n",
       "      <td>0.100189</td>\n",
       "      <td>3.780615</td>\n",
       "      <td>7.435705</td>\n",
       "    </tr>\n",
       "    <tr>\n",
       "      <th>POLAR+BLOBOP</th>\n",
       "      <td>0.068440</td>\n",
       "      <td>5.417522</td>\n",
       "      <td>6.526041</td>\n",
       "    </tr>\n",
       "  </tbody>\n",
       "</table>\n",
       "</div>"
      ],
      "text/plain": [
       "              problem1   problem2   problem3\n",
       "GKB           0.069958   4.170301   5.796366\n",
       "SPG           0.030239   1.733156   0.047628\n",
       "GPI           0.057133   0.681897   0.396513\n",
       "EB            0.905570  13.386660  18.925357\n",
       "GBB           0.059863   5.319885   5.637049\n",
       "GKB+GBB       0.071246   0.000000   0.000000\n",
       "BLOBOP        0.069043   2.904620   5.470636\n",
       "POLAR         0.100189   3.780615   7.435705\n",
       "POLAR+BLOBOP  0.068440   5.417522   6.526041"
      ]
     },
     "execution_count": 69,
     "metadata": {},
     "output_type": "execute_result"
    }
   ],
   "source": [
    "r = pd.DataFrame({'problem1' : t1_gkbpolar, 'problem2' : t2_gkbpolar, 'problem3' : t3_gkbpolar}, index=['POLAR'])\n",
    "results = results.append(r)\n",
    "r = pd.DataFrame({'problem1' : t1_gkbpolarblobop, 'problem2' : t2_gkbpolarblobop, 'problem3' : t3_gkbpolarblobop}, index=['POLAR+BLOBOP'])\n",
    "results = results.append(r)\n",
    "results"
   ]
  },
  {
   "cell_type": "markdown",
   "metadata": {},
   "source": [
    "## 4. Comparison between all versions"
   ]
  },
  {
   "cell_type": "markdown",
   "metadata": {},
   "source": [
    "### Problem 1"
   ]
  },
  {
   "cell_type": "code",
   "execution_count": 70,
   "metadata": {},
   "outputs": [
    {
     "data": {
      "text/plain": [
       "Text(0.5, 1.0, 'Problem 1')"
      ]
     },
     "execution_count": 70,
     "metadata": {},
     "output_type": "execute_result"
    },
    {
     "data": {
      "image/png": "[encoded data removed]",
      "text/plain": [
       "<Figure size 432x288 with 1 Axes>"
      ]
     },
     "metadata": {
      "needs_background": "light"
     },
     "output_type": "display_data"
    }
   ],
   "source": [
    "gkb, blobop, polarblobop, polar, spg, gpi, eb = plt.bar([0, 1, 2, 3, 4, 5, 6], [t1_gkb, t1_blobop, t1_gkbpolarblobop, t1_gkbpolar, t1_spg, t1_gpi, t1_eb])\n",
    "gkb.set_facecolor('r')\n",
    "blobop.set_facecolor('k')\n",
    "polarblobop.set_facecolor('g')\n",
    "polar.set_facecolor('b')\n",
    "spg.set_facecolor('y')\n",
    "gpi.set_facecolor('m')\n",
    "eb.set_facecolor('c')\n",
    "ax = plt.gca()\n",
    "ax.set_xticks([0,1,2,3,4,5,6])\n",
    "ax.set_xticklabels(['GKB', 'BLOBOP', 'POLAR+BLOBOP', 'POLAR', 'SPG', 'GPI', 'EB'])\n",
    "#ax.set_ylim([0, 100])\n",
    "ax.set_ylabel('CPU Time')\n",
    "ax.set_title('Problem 1')"
   ]
  },
  {
   "cell_type": "markdown",
   "metadata": {},
   "source": [
    "### Problem 2"
   ]
  },
  {
   "cell_type": "code",
   "execution_count": 71,
   "metadata": {},
   "outputs": [
    {
     "data": {
      "text/plain": [
       "Text(0.5, 1.0, 'Problem 2')"
      ]
     },
     "execution_count": 71,
     "metadata": {},
     "output_type": "execute_result"
    },
    {
     "data": {
      "image/png": "[encoded data removed]",
      "text/plain": [
       "<Figure size 432x288 with 1 Axes>"
      ]
     },
     "metadata": {
      "needs_background": "light"
     },
     "output_type": "display_data"
    }
   ],
   "source": [
    "gkb, blobop, polarblobop, polar, spg, gpi, eb = plt.bar([0, 1, 2, 3, 4, 5, 6], [t2_gkb, t2_blobop, t2_gkbpolarblobop, t2_gkbpolar, t2_spg, t2_gpi, t2_eb])\n",
    "gkb.set_facecolor('r')\n",
    "blobop.set_facecolor('k')\n",
    "polarblobop.set_facecolor('g')\n",
    "polar.set_facecolor('b')\n",
    "spg.set_facecolor('y')\n",
    "gpi.set_facecolor('m')\n",
    "eb.set_facecolor('c')\n",
    "ax = plt.gca()\n",
    "ax.set_xticks([0,1,2,3,4,5,6])\n",
    "ax.set_xticklabels(['GKB', 'BLOBOP', 'POLAR+BLOBOP', 'POLAR', 'SPG', 'GPI', 'EB'])\n",
    "#ax.set_ylim([0, 100])\n",
    "ax.set_ylabel('CPU Time')\n",
    "ax.set_title('Problem 2')"
   ]
  },
  {
   "cell_type": "markdown",
   "metadata": {},
   "source": [
    "### Problem 3"
   ]
  },
  {
   "cell_type": "code",
   "execution_count": 72,
   "metadata": {},
   "outputs": [
    {
     "data": {
      "text/plain": [
       "Text(0.5, 1.0, 'Problem 3')"
      ]
     },
     "execution_count": 72,
     "metadata": {},
     "output_type": "execute_result"
    },
    {
     "data": {
      "image/png": "[encoded data removed]",
      "text/plain": [
       "<Figure size 432x288 with 1 Axes>"
      ]
     },
     "metadata": {
      "needs_background": "light"
     },
     "output_type": "display_data"
    }
   ],
   "source": [
    "gkb, blobop, polarblobop, polar, spg, gpi, eb = plt.bar([0, 1, 2, 3, 4, 5, 6], [t3_gkb, t3_blobop, t3_gkbpolarblobop, t3_gkbpolar, t3_spg, t3_gpi, t3_eb])\n",
    "gkb.set_facecolor('r')\n",
    "blobop.set_facecolor('k')\n",
    "polarblobop.set_facecolor('g')\n",
    "polar.set_facecolor('b')\n",
    "spg.set_facecolor('y')\n",
    "gpi.set_facecolor('m')\n",
    "eb.set_facecolor('c')\n",
    "ax = plt.gca()\n",
    "ax.set_xticks([0,1,2,3,4,5,6])\n",
    "ax.set_xticklabels(['GKB', 'BLOBOP', 'POLAR+BLOBOP', 'POLAR', 'SPG', 'GPI', 'EB'])\n",
    "#ax.set_ylim([0, 100])\n",
    "ax.set_ylabel('CPU Time')\n",
    "ax.set_title('Problem 3')"
   ]
  },
  {
   "cell_type": "code",
   "execution_count": null,
   "metadata": {},
   "outputs": [],
   "source": []
  }
 ],
 "metadata": {
  "kernelspec": {
   "display_name": "Python 3",
   "language": "python",
   "name": "python3"
  },
  "language_info": {
   "codemirror_mode": {
    "name": "ipython",
    "version": 3
   },
   "file_extension": ".py",
   "mimetype": "text/x-python",
   "name": "python",
   "nbconvert_exporter": "python",
   "pygments_lexer": "ipython3",
   "version": "3.7.1"
  }
 },
 "nbformat": 4,
 "nbformat_minor": 2
}
