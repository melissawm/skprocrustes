{
 "cells": [
  {
   "cell_type": "code",
   "execution_count": 13,
   "metadata": {},
   "outputs": [],
   "source": [
    "import skprocrustes as skp\n",
    "import matplotlib.pyplot as plt\n",
    "import numpy as np\n",
    "import time\n",
    "import scipy.linalg as sp"
   ]
  },
  {
   "cell_type": "code",
   "execution_count": 14,
   "metadata": {},
   "outputs": [],
   "source": [
    "%matplotlib inline"
   ]
  },
  {
   "cell_type": "code",
   "execution_count": 15,
   "metadata": {},
   "outputs": [],
   "source": [
    "p = skp.ProcrustesProblem((5000,5000,10,10), problemnumber=1)"
   ]
  },
  {
   "cell_type": "code",
   "execution_count": 34,
   "metadata": {},
   "outputs": [],
   "source": [
    "A = np.diag(2*np.ones((5000,))) + np.diag(-1*np.ones((4999,)), k = 1) + np.diag(-1*np.ones((4999,)), k = -1)\n",
    "B = np.dot(A, np.eye(5000,10))"
   ]
  },
  {
   "cell_type": "code",
   "execution_count": 35,
   "metadata": {},
   "outputs": [],
   "source": [
    "p2 = skp.ProcrustesProblem((5000,5000,10,10), matrices = (A, B, np.eye(10,10)))"
   ]
  },
  {
   "cell_type": "code",
   "execution_count": null,
   "metadata": {},
   "outputs": [],
   "source": []
  },
  {
   "cell_type": "code",
   "execution_count": 36,
   "metadata": {},
   "outputs": [
    {
     "name": "stdout",
     "output_type": "stream",
     "text": [
      "Warning: Maximum number of iterations has been exceeded.\n"
     ]
    }
   ],
   "source": [
    "gkbsolver = skp.GKBSolver(inner_solver=\"spg\", verbose=0)\n",
    "t0 = time.time(); results_gkb = gkbsolver.solve(p2); cpu_gkb = time.time()-t0;\n",
    "gbbsolver = skp.GKBSolver(inner_solver=\"gbb\", halfreorth=True, verbose=0)\n",
    "t0 = time.time(); results_gbb = gbbsolver.solve(p2); cpu_gkbgbb = time.time()-t0;\n",
    "puregbbsolver = skp.GBBSolver(verbose=0)\n",
    "t0 = time.time(); results_puregbb = puregbbsolver.solve(p2); cpu_puregbb = time.time()-t0;\n",
    "spgsolver = skp.SPGSolver(verbose=0)\n",
    "t0 = time.time(); results_spg = spgsolver.solve(p2); cpu_spg = time.time()-t0;"
   ]
  },
  {
   "cell_type": "markdown",
   "metadata": {},
   "source": [
    "# Resumo"
   ]
  },
  {
   "cell_type": "code",
   "execution_count": 37,
   "metadata": {},
   "outputs": [
    {
     "data": {
      "text/plain": [
       "Text(0.5, 1.0, 'Problem 1')"
      ]
     },
     "execution_count": 37,
     "metadata": {},
     "output_type": "execute_result"
    },
    {
     "data": {
      "image/png": "[encoded data removed]",
      "text/plain": [
       "<Figure size 432x288 with 1 Axes>"
      ]
     },
     "metadata": {
      "needs_background": "light"
     },
     "output_type": "display_data"
    }
   ],
   "source": [
    "gkb, gbb, puregbb, spg = plt.bar([0,1,2,3], [cpu_gkb, cpu_gkbgbb, cpu_puregbb, cpu_spg])\n",
    "gkb.set_facecolor('r')\n",
    "gbb.set_facecolor('g')\n",
    "puregbb.set_facecolor('b')\n",
    "spg.set_facecolor('m')\n",
    "ax = plt.gca()\n",
    "ax.set_xticks([0,1,2,3])\n",
    "ax.set_xticklabels(['GKB', 'GKB+GBB', 'GBB', 'SPG'])\n",
    "#ax.set_ylim([0, 100])\n",
    "ax.set_ylabel('CPU Time')\n",
    "ax.set_title('Problem 1')"
   ]
  },
  {
   "cell_type": "code",
   "execution_count": null,
   "metadata": {},
   "outputs": [],
   "source": [
    "np.linalg.cond(p.A)"
   ]
  },
  {
   "cell_type": "code",
   "execution_count": null,
   "metadata": {},
   "outputs": [],
   "source": []
  }
 ],
 "metadata": {
  "kernelspec": {
   "display_name": "Python 3",
   "language": "python",
   "name": "python3"
  },
  "language_info": {
   "codemirror_mode": {
    "name": "ipython",
    "version": 3
   },
   "file_extension": ".py",
   "mimetype": "text/x-python",
   "name": "python",
   "nbconvert_exporter": "python",
   "pygments_lexer": "ipython3",
   "version": "3.7.1"
  }
 },
 "nbformat": 4,
 "nbformat_minor": 2
}
